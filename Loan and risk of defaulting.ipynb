{
 "cells": [
  {
   "cell_type": "markdown",
   "metadata": {},
   "source": [
    "### Project goal:\n",
    "\n",
    "* in this project we will analyse a dataset from a bank and prepare a review of what are the main points that can raise the risk of a customer defaulting on aloan. \n",
    "* we will focus on 4 different points:\n",
    "1. Children\n",
    "2. Family status( Marital Status)\n",
    "3. Income level\n",
    "4. purpose of the loan."
   ]
  },
  {
   "cell_type": "code",
   "execution_count": 1,
   "metadata": {},
   "outputs": [],
   "source": [
    "import pandas as pd\n",
    "import nltk\n",
    "from nltk.stem import WordNetLemmatizer\n",
    "wordnet_lemma = WordNetLemmatizer() \n",
    "from collections import Counter"
   ]
  },
  {
   "cell_type": "code",
   "execution_count": 2,
   "metadata": {},
   "outputs": [
    {
     "data": {
      "text/html": [
       "<div>\n",
       "<style scoped>\n",
       "    .dataframe tbody tr th:only-of-type {\n",
       "        vertical-align: middle;\n",
       "    }\n",
       "\n",
       "    .dataframe tbody tr th {\n",
       "        vertical-align: top;\n",
       "    }\n",
       "\n",
       "    .dataframe thead th {\n",
       "        text-align: right;\n",
       "    }\n",
       "</style>\n",
       "<table border=\"1\" class=\"dataframe\">\n",
       "  <thead>\n",
       "    <tr style=\"text-align: right;\">\n",
       "      <th></th>\n",
       "      <th>children</th>\n",
       "      <th>days_employed</th>\n",
       "      <th>dob_years</th>\n",
       "      <th>education</th>\n",
       "      <th>education_id</th>\n",
       "      <th>family_status</th>\n",
       "      <th>family_status_id</th>\n",
       "      <th>gender</th>\n",
       "      <th>income_type</th>\n",
       "      <th>debt</th>\n",
       "      <th>total_income</th>\n",
       "      <th>purpose</th>\n",
       "    </tr>\n",
       "  </thead>\n",
       "  <tbody>\n",
       "    <tr>\n",
       "      <td>0</td>\n",
       "      <td>1</td>\n",
       "      <td>-8437.673028</td>\n",
       "      <td>42</td>\n",
       "      <td>bachelor's degree</td>\n",
       "      <td>0</td>\n",
       "      <td>married</td>\n",
       "      <td>0</td>\n",
       "      <td>F</td>\n",
       "      <td>employee</td>\n",
       "      <td>0</td>\n",
       "      <td>40620.102</td>\n",
       "      <td>purchase of the house</td>\n",
       "    </tr>\n",
       "    <tr>\n",
       "      <td>1</td>\n",
       "      <td>1</td>\n",
       "      <td>-4024.803754</td>\n",
       "      <td>36</td>\n",
       "      <td>secondary education</td>\n",
       "      <td>1</td>\n",
       "      <td>married</td>\n",
       "      <td>0</td>\n",
       "      <td>F</td>\n",
       "      <td>employee</td>\n",
       "      <td>0</td>\n",
       "      <td>17932.802</td>\n",
       "      <td>car purchase</td>\n",
       "    </tr>\n",
       "    <tr>\n",
       "      <td>2</td>\n",
       "      <td>0</td>\n",
       "      <td>-5623.422610</td>\n",
       "      <td>33</td>\n",
       "      <td>Secondary Education</td>\n",
       "      <td>1</td>\n",
       "      <td>married</td>\n",
       "      <td>0</td>\n",
       "      <td>M</td>\n",
       "      <td>employee</td>\n",
       "      <td>0</td>\n",
       "      <td>23341.752</td>\n",
       "      <td>purchase of the house</td>\n",
       "    </tr>\n",
       "    <tr>\n",
       "      <td>3</td>\n",
       "      <td>3</td>\n",
       "      <td>-4124.747207</td>\n",
       "      <td>32</td>\n",
       "      <td>secondary education</td>\n",
       "      <td>1</td>\n",
       "      <td>married</td>\n",
       "      <td>0</td>\n",
       "      <td>M</td>\n",
       "      <td>employee</td>\n",
       "      <td>0</td>\n",
       "      <td>42820.568</td>\n",
       "      <td>supplementary education</td>\n",
       "    </tr>\n",
       "    <tr>\n",
       "      <td>4</td>\n",
       "      <td>0</td>\n",
       "      <td>340266.072047</td>\n",
       "      <td>53</td>\n",
       "      <td>secondary education</td>\n",
       "      <td>1</td>\n",
       "      <td>civil partnership</td>\n",
       "      <td>1</td>\n",
       "      <td>F</td>\n",
       "      <td>retiree</td>\n",
       "      <td>0</td>\n",
       "      <td>25378.572</td>\n",
       "      <td>to have a wedding</td>\n",
       "    </tr>\n",
       "    <tr>\n",
       "      <td>5</td>\n",
       "      <td>0</td>\n",
       "      <td>-926.185831</td>\n",
       "      <td>27</td>\n",
       "      <td>bachelor's degree</td>\n",
       "      <td>0</td>\n",
       "      <td>civil partnership</td>\n",
       "      <td>1</td>\n",
       "      <td>M</td>\n",
       "      <td>business</td>\n",
       "      <td>0</td>\n",
       "      <td>40922.170</td>\n",
       "      <td>purchase of the house</td>\n",
       "    </tr>\n",
       "    <tr>\n",
       "      <td>6</td>\n",
       "      <td>0</td>\n",
       "      <td>-2879.202052</td>\n",
       "      <td>43</td>\n",
       "      <td>bachelor's degree</td>\n",
       "      <td>0</td>\n",
       "      <td>married</td>\n",
       "      <td>0</td>\n",
       "      <td>F</td>\n",
       "      <td>business</td>\n",
       "      <td>0</td>\n",
       "      <td>38484.156</td>\n",
       "      <td>housing transactions</td>\n",
       "    </tr>\n",
       "    <tr>\n",
       "      <td>7</td>\n",
       "      <td>0</td>\n",
       "      <td>-152.779569</td>\n",
       "      <td>50</td>\n",
       "      <td>SECONDARY EDUCATION</td>\n",
       "      <td>1</td>\n",
       "      <td>married</td>\n",
       "      <td>0</td>\n",
       "      <td>M</td>\n",
       "      <td>employee</td>\n",
       "      <td>0</td>\n",
       "      <td>21731.829</td>\n",
       "      <td>education</td>\n",
       "    </tr>\n",
       "    <tr>\n",
       "      <td>8</td>\n",
       "      <td>2</td>\n",
       "      <td>-6929.865299</td>\n",
       "      <td>35</td>\n",
       "      <td>BACHELOR'S DEGREE</td>\n",
       "      <td>0</td>\n",
       "      <td>civil partnership</td>\n",
       "      <td>1</td>\n",
       "      <td>F</td>\n",
       "      <td>employee</td>\n",
       "      <td>0</td>\n",
       "      <td>15337.093</td>\n",
       "      <td>having a wedding</td>\n",
       "    </tr>\n",
       "    <tr>\n",
       "      <td>9</td>\n",
       "      <td>0</td>\n",
       "      <td>-2188.756445</td>\n",
       "      <td>41</td>\n",
       "      <td>secondary education</td>\n",
       "      <td>1</td>\n",
       "      <td>married</td>\n",
       "      <td>0</td>\n",
       "      <td>M</td>\n",
       "      <td>employee</td>\n",
       "      <td>0</td>\n",
       "      <td>23108.150</td>\n",
       "      <td>purchase of the house for my family</td>\n",
       "    </tr>\n",
       "  </tbody>\n",
       "</table>\n",
       "</div>"
      ],
      "text/plain": [
       "   children  days_employed  dob_years            education  education_id  \\\n",
       "0         1   -8437.673028         42    bachelor's degree             0   \n",
       "1         1   -4024.803754         36  secondary education             1   \n",
       "2         0   -5623.422610         33  Secondary Education             1   \n",
       "3         3   -4124.747207         32  secondary education             1   \n",
       "4         0  340266.072047         53  secondary education             1   \n",
       "5         0    -926.185831         27    bachelor's degree             0   \n",
       "6         0   -2879.202052         43    bachelor's degree             0   \n",
       "7         0    -152.779569         50  SECONDARY EDUCATION             1   \n",
       "8         2   -6929.865299         35    BACHELOR'S DEGREE             0   \n",
       "9         0   -2188.756445         41  secondary education             1   \n",
       "\n",
       "       family_status  family_status_id gender income_type  debt  total_income  \\\n",
       "0            married                 0      F    employee     0     40620.102   \n",
       "1            married                 0      F    employee     0     17932.802   \n",
       "2            married                 0      M    employee     0     23341.752   \n",
       "3            married                 0      M    employee     0     42820.568   \n",
       "4  civil partnership                 1      F     retiree     0     25378.572   \n",
       "5  civil partnership                 1      M    business     0     40922.170   \n",
       "6            married                 0      F    business     0     38484.156   \n",
       "7            married                 0      M    employee     0     21731.829   \n",
       "8  civil partnership                 1      F    employee     0     15337.093   \n",
       "9            married                 0      M    employee     0     23108.150   \n",
       "\n",
       "                               purpose  \n",
       "0                purchase of the house  \n",
       "1                         car purchase  \n",
       "2                purchase of the house  \n",
       "3              supplementary education  \n",
       "4                    to have a wedding  \n",
       "5                purchase of the house  \n",
       "6                 housing transactions  \n",
       "7                            education  \n",
       "8                     having a wedding  \n",
       "9  purchase of the house for my family  "
      ]
     },
     "execution_count": 2,
     "metadata": {},
     "output_type": "execute_result"
    }
   ],
   "source": [
    "credit_scoring = pd.read_csv('/datasets/credit_scoring_eng.csv')\n",
    "credit_scoring.head(10)"
   ]
  },
  {
   "cell_type": "code",
   "execution_count": 3,
   "metadata": {},
   "outputs": [
    {
     "name": "stdout",
     "output_type": "stream",
     "text": [
      "<class 'pandas.core.frame.DataFrame'>\n",
      "RangeIndex: 21525 entries, 0 to 21524\n",
      "Data columns (total 12 columns):\n",
      "children            21525 non-null int64\n",
      "days_employed       19351 non-null float64\n",
      "dob_years           21525 non-null int64\n",
      "education           21525 non-null object\n",
      "education_id        21525 non-null int64\n",
      "family_status       21525 non-null object\n",
      "family_status_id    21525 non-null int64\n",
      "gender              21525 non-null object\n",
      "income_type         21525 non-null object\n",
      "debt                21525 non-null int64\n",
      "total_income        19351 non-null float64\n",
      "purpose             21525 non-null object\n",
      "dtypes: float64(2), int64(5), object(5)\n",
      "memory usage: 2.0+ MB\n"
     ]
    }
   ],
   "source": [
    "credit_scoring.info()"
   ]
  },
  {
   "cell_type": "markdown",
   "metadata": {},
   "source": [
    "# General Info and Notes:\n",
    "1. there are missing values in 'days_employed' and 'total_income' and looks like the same amount, should check if in the same rows.\n",
    "2. Days of employment 'days_employed' type should be changed\n",
    "3. name of 'dob_years' colmun should be changed to 'age'"
   ]
  },
  {
   "cell_type": "markdown",
   "metadata": {},
   "source": [
    "# Changing column name"
   ]
  },
  {
   "cell_type": "code",
   "execution_count": 4,
   "metadata": {},
   "outputs": [
    {
     "data": {
      "text/plain": [
       "Index(['children', 'days_employed', 'age', 'education', 'education_id',\n",
       "       'family_status', 'family_status_id', 'gender', 'income_type', 'debt',\n",
       "       'total_income', 'purpose'],\n",
       "      dtype='object')"
      ]
     },
     "execution_count": 4,
     "metadata": {},
     "output_type": "execute_result"
    }
   ],
   "source": [
    "credit_scoring = credit_scoring.rename(columns={'dob_years':'age'})  # rename the column\n",
    "credit_scoring.columns"
   ]
  },
  {
   "cell_type": "markdown",
   "metadata": {},
   "source": [
    "### Afterthoughts\n",
    "\n",
    "* the name of the column 'dob_years' was misleading so it was changed to 'age'"
   ]
  },
  {
   "cell_type": "markdown",
   "metadata": {},
   "source": [
    "# Filling Missing Values:"
   ]
  },
  {
   "cell_type": "code",
   "execution_count": 5,
   "metadata": {},
   "outputs": [
    {
     "data": {
      "text/plain": [
       "children               0\n",
       "days_employed       2174\n",
       "age                    0\n",
       "education              0\n",
       "education_id           0\n",
       "family_status          0\n",
       "family_status_id       0\n",
       "gender                 0\n",
       "income_type            0\n",
       "debt                   0\n",
       "total_income        2174\n",
       "purpose                0\n",
       "dtype: int64"
      ]
     },
     "execution_count": 5,
     "metadata": {},
     "output_type": "execute_result"
    }
   ],
   "source": [
    "credit_scoring.isna().sum()   # check for missing values"
   ]
  },
  {
   "cell_type": "code",
   "execution_count": 6,
   "metadata": {},
   "outputs": [
    {
     "data": {
      "text/plain": [
       "2174"
      ]
     },
     "execution_count": 6,
     "metadata": {},
     "output_type": "execute_result"
    }
   ],
   "source": [
    "len(credit_scoring.loc[(credit_scoring['days_employed'].isna()) & (credit_scoring['total_income'].isna())])"
   ]
  },
  {
   "cell_type": "code",
   "execution_count": 7,
   "metadata": {},
   "outputs": [
    {
     "data": {
      "text/plain": [
       "0      -8437.673028\n",
       "1      -4024.803754\n",
       "2      -5623.422610\n",
       "3      -4124.747207\n",
       "4     340266.072047\n",
       "5       -926.185831\n",
       "6      -2879.202052\n",
       "7       -152.779569\n",
       "8      -6929.865299\n",
       "9      -2188.756445\n",
       "10     -4171.483647\n",
       "11      -792.701887\n",
       "12              NaN\n",
       "13     -1846.641941\n",
       "14     -1844.956182\n",
       "Name: days_employed, dtype: float64"
      ]
     },
     "execution_count": 7,
     "metadata": {},
     "output_type": "execute_result"
    }
   ],
   "source": [
    "credit_scoring['days_employed'].head(15)"
   ]
  },
  {
   "cell_type": "code",
   "execution_count": 8,
   "metadata": {},
   "outputs": [
    {
     "name": "stdout",
     "output_type": "stream",
     "text": [
      "Total rows 21525\n",
      "Total successfully converted rows 19351\n",
      "Total rows with errors 2174\n"
     ]
    },
    {
     "data": {
      "text/plain": [
       "[nan, nan, nan, nan, nan, nan, nan, nan, nan, nan]"
      ]
     },
     "execution_count": 8,
     "metadata": {},
     "output_type": "execute_result"
    }
   ],
   "source": [
    "count_rows = 0\n",
    "successful_rows = 0\n",
    "erroneous_rows = 0\n",
    "unconverted_values= []\n",
    "\n",
    "\n",
    "for value in credit_scoring['days_employed']:\n",
    "    count_rows += 1\n",
    "    try:\n",
    "        value = int(value)\n",
    "        successful_rows += 1\n",
    "    except:\n",
    "        erroneous_rows += 1\n",
    "        unconverted_values.append(value)\n",
    "        \n",
    "        \n",
    "print('Total rows', count_rows)        \n",
    "print('Total successfully converted rows', successful_rows)        \n",
    "print('Total rows with errors', erroneous_rows) \n",
    "\n",
    "unconverted_values[:10]"
   ]
  },
  {
   "cell_type": "code",
   "execution_count": 9,
   "metadata": {},
   "outputs": [
    {
     "data": {
      "text/html": [
       "<div>\n",
       "<style scoped>\n",
       "    .dataframe tbody tr th:only-of-type {\n",
       "        vertical-align: middle;\n",
       "    }\n",
       "\n",
       "    .dataframe tbody tr th {\n",
       "        vertical-align: top;\n",
       "    }\n",
       "\n",
       "    .dataframe thead th {\n",
       "        text-align: right;\n",
       "    }\n",
       "</style>\n",
       "<table border=\"1\" class=\"dataframe\">\n",
       "  <thead>\n",
       "    <tr style=\"text-align: right;\">\n",
       "      <th></th>\n",
       "      <th>children</th>\n",
       "      <th>days_employed</th>\n",
       "      <th>age</th>\n",
       "      <th>education_id</th>\n",
       "      <th>family_status_id</th>\n",
       "      <th>debt</th>\n",
       "      <th>total_income</th>\n",
       "    </tr>\n",
       "  </thead>\n",
       "  <tbody>\n",
       "    <tr>\n",
       "      <td>count</td>\n",
       "      <td>21525.000000</td>\n",
       "      <td>21525.000000</td>\n",
       "      <td>21525.000000</td>\n",
       "      <td>21525.000000</td>\n",
       "      <td>21525.000000</td>\n",
       "      <td>21525.000000</td>\n",
       "      <td>19351.000000</td>\n",
       "    </tr>\n",
       "    <tr>\n",
       "      <td>mean</td>\n",
       "      <td>0.538908</td>\n",
       "      <td>56557.335698</td>\n",
       "      <td>43.293380</td>\n",
       "      <td>0.817236</td>\n",
       "      <td>0.972544</td>\n",
       "      <td>0.080883</td>\n",
       "      <td>26787.568355</td>\n",
       "    </tr>\n",
       "    <tr>\n",
       "      <td>std</td>\n",
       "      <td>1.381587</td>\n",
       "      <td>134922.319298</td>\n",
       "      <td>12.574584</td>\n",
       "      <td>0.548138</td>\n",
       "      <td>1.420324</td>\n",
       "      <td>0.272661</td>\n",
       "      <td>16475.450632</td>\n",
       "    </tr>\n",
       "    <tr>\n",
       "      <td>min</td>\n",
       "      <td>-1.000000</td>\n",
       "      <td>-18388.949901</td>\n",
       "      <td>0.000000</td>\n",
       "      <td>0.000000</td>\n",
       "      <td>0.000000</td>\n",
       "      <td>0.000000</td>\n",
       "      <td>3306.762000</td>\n",
       "    </tr>\n",
       "    <tr>\n",
       "      <td>25%</td>\n",
       "      <td>0.000000</td>\n",
       "      <td>-2518.168900</td>\n",
       "      <td>33.000000</td>\n",
       "      <td>1.000000</td>\n",
       "      <td>0.000000</td>\n",
       "      <td>0.000000</td>\n",
       "      <td>16488.504500</td>\n",
       "    </tr>\n",
       "    <tr>\n",
       "      <td>50%</td>\n",
       "      <td>0.000000</td>\n",
       "      <td>-1203.369529</td>\n",
       "      <td>42.000000</td>\n",
       "      <td>1.000000</td>\n",
       "      <td>0.000000</td>\n",
       "      <td>0.000000</td>\n",
       "      <td>23202.870000</td>\n",
       "    </tr>\n",
       "    <tr>\n",
       "      <td>75%</td>\n",
       "      <td>1.000000</td>\n",
       "      <td>-385.106616</td>\n",
       "      <td>53.000000</td>\n",
       "      <td>1.000000</td>\n",
       "      <td>1.000000</td>\n",
       "      <td>0.000000</td>\n",
       "      <td>32549.611000</td>\n",
       "    </tr>\n",
       "    <tr>\n",
       "      <td>max</td>\n",
       "      <td>20.000000</td>\n",
       "      <td>401755.400475</td>\n",
       "      <td>75.000000</td>\n",
       "      <td>4.000000</td>\n",
       "      <td>4.000000</td>\n",
       "      <td>1.000000</td>\n",
       "      <td>362496.645000</td>\n",
       "    </tr>\n",
       "  </tbody>\n",
       "</table>\n",
       "</div>"
      ],
      "text/plain": [
       "           children  days_employed           age  education_id  \\\n",
       "count  21525.000000   21525.000000  21525.000000  21525.000000   \n",
       "mean       0.538908   56557.335698     43.293380      0.817236   \n",
       "std        1.381587  134922.319298     12.574584      0.548138   \n",
       "min       -1.000000  -18388.949901      0.000000      0.000000   \n",
       "25%        0.000000   -2518.168900     33.000000      1.000000   \n",
       "50%        0.000000   -1203.369529     42.000000      1.000000   \n",
       "75%        1.000000    -385.106616     53.000000      1.000000   \n",
       "max       20.000000  401755.400475     75.000000      4.000000   \n",
       "\n",
       "       family_status_id          debt   total_income  \n",
       "count      21525.000000  21525.000000   19351.000000  \n",
       "mean           0.972544      0.080883   26787.568355  \n",
       "std            1.420324      0.272661   16475.450632  \n",
       "min            0.000000      0.000000    3306.762000  \n",
       "25%            0.000000      0.000000   16488.504500  \n",
       "50%            0.000000      0.000000   23202.870000  \n",
       "75%            1.000000      0.000000   32549.611000  \n",
       "max            4.000000      1.000000  362496.645000  "
      ]
     },
     "execution_count": 9,
     "metadata": {},
     "output_type": "execute_result"
    }
   ],
   "source": [
    "credit_scoring['days_employed'] = credit_scoring['days_employed'].fillna(credit_scoring['days_employed'].median())\n",
    "credit_scoring.describe()"
   ]
  },
  {
   "cell_type": "code",
   "execution_count": 10,
   "metadata": {},
   "outputs": [
    {
     "data": {
      "text/plain": [
       "26787.56835465867"
      ]
     },
     "execution_count": 10,
     "metadata": {},
     "output_type": "execute_result"
    }
   ],
   "source": [
    "credit_scoring['total_income'].mean()"
   ]
  },
  {
   "cell_type": "code",
   "execution_count": 11,
   "metadata": {},
   "outputs": [
    {
     "data": {
      "text/plain": [
       "23202.87"
      ]
     },
     "execution_count": 11,
     "metadata": {},
     "output_type": "execute_result"
    }
   ],
   "source": [
    "credit_scoring['total_income'].median()"
   ]
  },
  {
   "cell_type": "code",
   "execution_count": 12,
   "metadata": {},
   "outputs": [],
   "source": [
    "credit_scoring_incomefilled = credit_scoring.copy()\n",
    "credit_scoring_incomefilled['total_income'] = credit_scoring['total_income'].fillna(credit_scoring['total_income'].mean())"
   ]
  },
  {
   "cell_type": "code",
   "execution_count": 13,
   "metadata": {},
   "outputs": [
    {
     "data": {
      "text/plain": [
       "children            0\n",
       "days_employed       0\n",
       "age                 0\n",
       "education           0\n",
       "education_id        0\n",
       "family_status       0\n",
       "family_status_id    0\n",
       "gender              0\n",
       "income_type         0\n",
       "debt                0\n",
       "total_income        0\n",
       "purpose             0\n",
       "dtype: int64"
      ]
     },
     "execution_count": 13,
     "metadata": {},
     "output_type": "execute_result"
    }
   ],
   "source": [
    "credit_scoring_incomefilled.isna().sum() "
   ]
  },
  {
   "cell_type": "markdown",
   "metadata": {},
   "source": [
    "\n",
    "### Afterthoughts\n",
    "\n",
    "1. the dataset have missing values in both the 'days_employed' and 'total_income' and in the same rows for both columns and this possibly pints out that the data were in the begining as 2 or 3 tables(files) where one of them have less Information than the others and after merging the data that where missing was filled with (NaN). or it could be easily because of a corrupted file but I think that the first point is more likely.\n",
    "\n",
    "\n",
    "2. while trying to change the type of days in 'days_employed' to int we encountered an error and with using the try-except method I found that the number of values with errors is the same as the missing values so that means all the other values can be converted. therefore we need to fill the missing values and then try to change the type later.\n",
    "\n",
    "\n",
    "3. fill the missing values in 'days_employed' with the median\n",
    "* **Note:the values here have negative values and very huge values(unrealistic) and I couldn't realy determine where the error was and why they are like this so for now as they days of employment doesn't have a big impact on the analysis i chose to fill it with median.**\n",
    "\n",
    "4. fill the missing values in 'total_income' with the mean \n",
    "* **Note: the mean is heigher than the median in the total income which indicates a high outlier but as both of them will fall in same category of income level so they are basically the same so fo now I will use the mean.**\n",
    "\n",
    "\n",
    "* **Note:I thought about filling the values with the mean based on the 'income_type' and tried to do so in a side notebook but as I found that it did not make an impact on the analysis and the results so i chose to fill it with the overall mean for simplicity.**\n"
   ]
  },
  {
   "cell_type": "markdown",
   "metadata": {},
   "source": [
    "# Data type replacement and in depth preprocessing\n",
    "\n",
    "## Children:"
   ]
  },
  {
   "cell_type": "code",
   "execution_count": 14,
   "metadata": {},
   "outputs": [
    {
     "name": "stdout",
     "output_type": "stream",
     "text": [
      "<class 'pandas.core.frame.DataFrame'>\n",
      "RangeIndex: 21525 entries, 0 to 21524\n",
      "Data columns (total 12 columns):\n",
      "children            21525 non-null int64\n",
      "days_employed       21525 non-null float64\n",
      "age                 21525 non-null int64\n",
      "education           21525 non-null object\n",
      "education_id        21525 non-null int64\n",
      "family_status       21525 non-null object\n",
      "family_status_id    21525 non-null int64\n",
      "gender              21525 non-null object\n",
      "income_type         21525 non-null object\n",
      "debt                21525 non-null int64\n",
      "total_income        21525 non-null float64\n",
      "purpose             21525 non-null object\n",
      "dtypes: float64(2), int64(5), object(5)\n",
      "memory usage: 2.0+ MB\n"
     ]
    }
   ],
   "source": [
    "credit_scoring_incomefilled.info()"
   ]
  },
  {
   "cell_type": "code",
   "execution_count": 15,
   "metadata": {},
   "outputs": [
    {
     "data": {
      "text/plain": [
       "array([ 1,  0,  3,  2, -1,  4, 20,  5])"
      ]
     },
     "execution_count": 15,
     "metadata": {},
     "output_type": "execute_result"
    }
   ],
   "source": [
    "credit_scoring_incomefilled['children'].unique()  # weird that there is negative and a huge number of children"
   ]
  },
  {
   "cell_type": "code",
   "execution_count": 16,
   "metadata": {},
   "outputs": [
    {
     "data": {
      "text/plain": [
       " 0     14149\n",
       " 1      4818\n",
       " 2      2055\n",
       " 3       330\n",
       " 20       76\n",
       "-1        47\n",
       " 4        41\n",
       " 5         9\n",
       "Name: children, dtype: int64"
      ]
     },
     "execution_count": 16,
     "metadata": {},
     "output_type": "execute_result"
    }
   ],
   "source": [
    "credit_scoring_incomefilled['children'].value_counts()  "
   ]
  },
  {
   "cell_type": "code",
   "execution_count": 17,
   "metadata": {},
   "outputs": [
    {
     "data": {
      "text/plain": [
       "0     14149\n",
       "1      4865\n",
       "2      2055\n",
       "3       330\n",
       "20       76\n",
       "4        41\n",
       "5         9\n",
       "Name: children, dtype: int64"
      ]
     },
     "execution_count": 17,
     "metadata": {},
     "output_type": "execute_result"
    }
   ],
   "source": [
    "credit_scoring_incomefilled['children'] = credit_scoring_incomefilled['children'].abs()\n",
    "credit_scoring_incomefilled['children'].value_counts()"
   ]
  },
  {
   "cell_type": "code",
   "execution_count": 18,
   "metadata": {},
   "outputs": [],
   "source": [
    "credit_scoring_incomefilled.loc[credit_scoring_incomefilled['children'] == 20] = 2"
   ]
  },
  {
   "cell_type": "code",
   "execution_count": 19,
   "metadata": {},
   "outputs": [
    {
     "data": {
      "text/plain": [
       "0    14149\n",
       "1     4865\n",
       "2     2131\n",
       "3      330\n",
       "4       41\n",
       "5        9\n",
       "Name: children, dtype: int64"
      ]
     },
     "execution_count": 19,
     "metadata": {},
     "output_type": "execute_result"
    }
   ],
   "source": [
    "credit_scoring_incomefilled['children'].value_counts()"
   ]
  },
  {
   "cell_type": "markdown",
   "metadata": {},
   "source": [
    "### Afterthoughts: \n",
    "\n",
    "1. there were '-1' and '20' as number of children.\n",
    "\n",
    "\n",
    "2. as for the '-1' and because it is impossible to have a negative amount of children it I considered it as a typo in input and took its absolute value.\n",
    "\n",
    "\n",
    "3. as for the '20' and considering the huge gap between the second top of number of children '5' and amount of people having 20 kids I found it not logical so I also considered it as typo and that it was meant to be 2\n",
    "\n",
    "\n",
    "## Days of Employment"
   ]
  },
  {
   "cell_type": "code",
   "execution_count": 20,
   "metadata": {},
   "outputs": [
    {
     "data": {
      "text/plain": [
       "0         -8437.673028\n",
       "1         -4024.803754\n",
       "2         -5623.422610\n",
       "3         -4124.747207\n",
       "4        340266.072047\n",
       "             ...      \n",
       "21520     -4529.316663\n",
       "21521    343937.404131\n",
       "21522     -2113.346888\n",
       "21523     -3112.481705\n",
       "21524     -1984.507589\n",
       "Name: days_employed, Length: 21525, dtype: float64"
      ]
     },
     "execution_count": 20,
     "metadata": {},
     "output_type": "execute_result"
    }
   ],
   "source": [
    "credit_scoring_incomefilled['days_employed']"
   ]
  },
  {
   "cell_type": "code",
   "execution_count": 21,
   "metadata": {},
   "outputs": [
    {
     "data": {
      "text/plain": [
       "0         -8437\n",
       "1         -4024\n",
       "2         -5623\n",
       "3         -4124\n",
       "4        340266\n",
       "          ...  \n",
       "21520     -4529\n",
       "21521    343937\n",
       "21522     -2113\n",
       "21523     -3112\n",
       "21524     -1984\n",
       "Name: days_employed, Length: 21525, dtype: int64"
      ]
     },
     "execution_count": 21,
     "metadata": {},
     "output_type": "execute_result"
    }
   ],
   "source": [
    "# these are days so the numbers shouldn't be floats but integers\n",
    "credit_scoring_incomefilled['days_employed'] = credit_scoring_incomefilled['days_employed'].astype('int')\n",
    "credit_scoring_incomefilled['days_employed']"
   ]
  },
  {
   "cell_type": "code",
   "execution_count": 22,
   "metadata": {},
   "outputs": [
    {
     "data": {
      "text/plain": [
       "0          8437\n",
       "1          4024\n",
       "2          5623\n",
       "3          4124\n",
       "4        340266\n",
       "          ...  \n",
       "21520      4529\n",
       "21521    343937\n",
       "21522      2113\n",
       "21523      3112\n",
       "21524      1984\n",
       "Name: days_employed, Length: 21525, dtype: int64"
      ]
     },
     "execution_count": 22,
     "metadata": {},
     "output_type": "execute_result"
    }
   ],
   "source": [
    "# days can't be negative\n",
    "credit_scoring_incomefilled['days_employed'] = credit_scoring_incomefilled['days_employed'].abs()\n",
    "credit_scoring_incomefilled['days_employed']"
   ]
  },
  {
   "cell_type": "markdown",
   "metadata": {},
   "source": [
    "### Afterthoughts: \n",
    "\n",
    "1. as these are days so they should be positive integer values so I took the absolute values and changed the type from 'float' to 'int'. \n",
    "**Note: as I think these numbers are not very important in the overall results so for now I will stop here without any further indepth analysis.**\n",
    "\n",
    "## Age:"
   ]
  },
  {
   "cell_type": "code",
   "execution_count": 23,
   "metadata": {},
   "outputs": [
    {
     "data": {
      "text/plain": [
       "array([42, 36, 33, 32, 53, 27, 43, 50, 35, 41, 40, 65, 54, 56, 26, 48, 24,\n",
       "       21, 57, 67, 28, 63, 62, 47, 34, 68, 25, 31, 30, 20, 49, 37, 45, 61,\n",
       "       64, 44, 52, 46, 23, 38, 39, 51,  0, 59, 29, 60, 55, 58, 71, 22, 73,\n",
       "       66, 69,  2, 19, 72, 70, 74, 75])"
      ]
     },
     "execution_count": 23,
     "metadata": {},
     "output_type": "execute_result"
    }
   ],
   "source": [
    "age = credit_scoring_incomefilled['age'].unique()\n",
    "age"
   ]
  },
  {
   "cell_type": "code",
   "execution_count": 24,
   "metadata": {},
   "outputs": [
    {
     "data": {
      "text/plain": [
       "array([ 0,  2, 19, 20, 21, 22, 23, 24, 25, 26, 27, 28, 29, 30, 31, 32, 33,\n",
       "       34, 35, 36, 37, 38, 39, 40, 41, 42, 43, 44, 45, 46, 47, 48, 49, 50,\n",
       "       51, 52, 53, 54, 55, 56, 57, 58, 59, 60, 61, 62, 63, 64, 65, 66, 67,\n",
       "       68, 69, 70, 71, 72, 73, 74, 75])"
      ]
     },
     "execution_count": 24,
     "metadata": {},
     "output_type": "execute_result"
    }
   ],
   "source": [
    "age.sort()\n",
    "age"
   ]
  },
  {
   "cell_type": "code",
   "execution_count": 25,
   "metadata": {},
   "outputs": [
    {
     "data": {
      "text/plain": [
       "35    615\n",
       "40    605\n",
       "41    605\n",
       "34    600\n",
       "38    597\n",
       "42    594\n",
       "33    579\n",
       "39    572\n",
       "31    558\n",
       "36    553\n",
       "44    545\n",
       "29    543\n",
       "30    537\n",
       "48    537\n",
       "37    533\n",
       "43    511\n",
       "50    511\n",
       "32    508\n",
       "49    505\n",
       "28    503\n",
       "45    494\n",
       "27    491\n",
       "52    483\n",
       "56    482\n",
       "47    480\n",
       "54    478\n",
       "46    472\n",
       "58    461\n",
       "57    459\n",
       "53    458\n",
       "51    447\n",
       "55    442\n",
       "59    442\n",
       "26    407\n",
       "60    376\n",
       "25    356\n",
       "61    354\n",
       "62    351\n",
       "63    269\n",
       "64    264\n",
       "24    263\n",
       "23    253\n",
       "65    194\n",
       "66    183\n",
       "22    183\n",
       "67    167\n",
       "21    110\n",
       "0     100\n",
       "68     99\n",
       "69     84\n",
       "2      76\n",
       "70     65\n",
       "71     58\n",
       "20     51\n",
       "72     33\n",
       "19     14\n",
       "73      8\n",
       "74      6\n",
       "75      1\n",
       "Name: age, dtype: int64"
      ]
     },
     "execution_count": 25,
     "metadata": {},
     "output_type": "execute_result"
    }
   ],
   "source": [
    "# there are weird values in the age column (0 - 2)\n",
    "ages = credit_scoring_incomefilled['age'].value_counts()\n",
    "ages"
   ]
  },
  {
   "cell_type": "code",
   "execution_count": 26,
   "metadata": {},
   "outputs": [
    {
     "data": {
      "text/plain": [
       "0     100\n",
       "2      76\n",
       "19     14\n",
       "20     51\n",
       "21    110\n",
       "22    183\n",
       "23    253\n",
       "24    263\n",
       "25    356\n",
       "26    407\n",
       "27    491\n",
       "28    503\n",
       "29    543\n",
       "30    537\n",
       "31    558\n",
       "32    508\n",
       "33    579\n",
       "34    600\n",
       "35    615\n",
       "36    553\n",
       "37    533\n",
       "38    597\n",
       "39    572\n",
       "40    605\n",
       "41    605\n",
       "42    594\n",
       "43    511\n",
       "44    545\n",
       "45    494\n",
       "46    472\n",
       "47    480\n",
       "48    537\n",
       "49    505\n",
       "50    511\n",
       "51    447\n",
       "52    483\n",
       "53    458\n",
       "54    478\n",
       "55    442\n",
       "56    482\n",
       "57    459\n",
       "58    461\n",
       "59    442\n",
       "60    376\n",
       "61    354\n",
       "62    351\n",
       "63    269\n",
       "64    264\n",
       "65    194\n",
       "66    183\n",
       "67    167\n",
       "68     99\n",
       "69     84\n",
       "70     65\n",
       "71     58\n",
       "72     33\n",
       "73      8\n",
       "74      6\n",
       "75      1\n",
       "Name: age, dtype: int64"
      ]
     },
     "execution_count": 26,
     "metadata": {},
     "output_type": "execute_result"
    }
   ],
   "source": [
    "#lets find how many weird values there are\n",
    "ages.sort_index()"
   ]
  },
  {
   "cell_type": "code",
   "execution_count": 27,
   "metadata": {},
   "outputs": [
    {
     "data": {
      "text/plain": [
       "0.008176538908246225"
      ]
     },
     "execution_count": 27,
     "metadata": {},
     "output_type": "execute_result"
    }
   ],
   "source": [
    "# percentage of the rows with 0 and 2 in the age to the whole dataframe\n",
    "age_low = len(credit_scoring_incomefilled.loc[credit_scoring_incomefilled['age']< 18])\n",
    "age_all = len(credit_scoring_incomefilled['age'])\n",
    "age_low_per = age_low/age_all\n",
    "age_low_per"
   ]
  },
  {
   "cell_type": "code",
   "execution_count": 28,
   "metadata": {},
   "outputs": [],
   "source": [
    "credit_scoring_incomefilled = credit_scoring_incomefilled.loc[credit_scoring_incomefilled['age'] > 18]"
   ]
  },
  {
   "cell_type": "code",
   "execution_count": 29,
   "metadata": {},
   "outputs": [
    {
     "data": {
      "text/plain": [
       "array([42, 36, 33, 32, 53, 27, 43, 50, 35, 41, 40, 65, 54, 56, 26, 48, 24,\n",
       "       21, 57, 67, 28, 63, 62, 47, 34, 68, 25, 31, 30, 20, 49, 37, 45, 61,\n",
       "       64, 44, 52, 46, 23, 38, 39, 51, 59, 29, 60, 55, 58, 71, 22, 73, 66,\n",
       "       69, 19, 72, 70, 74, 75])"
      ]
     },
     "execution_count": 29,
     "metadata": {},
     "output_type": "execute_result"
    }
   ],
   "source": [
    "credit_scoring_incomefilled['age'].unique()"
   ]
  },
  {
   "cell_type": "markdown",
   "metadata": {},
   "source": [
    "### Afterthoughts: \n",
    "\n",
    "1. by taking a look in the age column there were unrealistic values like '0' and '2' and as these are less than 1% of the whole data so I decided to drop these rows.\n",
    "\n",
    "\n",
    "## Education: "
   ]
  },
  {
   "cell_type": "code",
   "execution_count": 30,
   "metadata": {},
   "outputs": [
    {
     "data": {
      "text/plain": [
       "secondary education    13640\n",
       "bachelor's degree       4674\n",
       "SECONDARY EDUCATION      768\n",
       "Secondary Education      702\n",
       "some college             664\n",
       "BACHELOR'S DEGREE        271\n",
       "Bachelor's Degree        266\n",
       "primary education        250\n",
       "Some College              47\n",
       "SOME COLLEGE              29\n",
       "PRIMARY EDUCATION         17\n",
       "Primary Education         15\n",
       "graduate degree            4\n",
       "GRADUATE DEGREE            1\n",
       "Graduate Degree            1\n",
       "Name: education, dtype: int64"
      ]
     },
     "execution_count": 30,
     "metadata": {},
     "output_type": "execute_result"
    }
   ],
   "source": [
    "credit_scoring_incomefilled['education'].value_counts()"
   ]
  },
  {
   "cell_type": "code",
   "execution_count": 31,
   "metadata": {},
   "outputs": [
    {
     "data": {
      "text/plain": [
       "1    15110\n",
       "0     5211\n",
       "2      740\n",
       "3      282\n",
       "4        6\n",
       "Name: education_id, dtype: int64"
      ]
     },
     "execution_count": 31,
     "metadata": {},
     "output_type": "execute_result"
    }
   ],
   "source": [
    "credit_scoring_incomefilled['education_id'].value_counts()"
   ]
  },
  {
   "cell_type": "code",
   "execution_count": 32,
   "metadata": {},
   "outputs": [],
   "source": [
    "credit_scoring_incomefilled['education'] = credit_scoring_incomefilled['education'].str.lower()"
   ]
  },
  {
   "cell_type": "code",
   "execution_count": 33,
   "metadata": {},
   "outputs": [
    {
     "data": {
      "text/plain": [
       "secondary education    15110\n",
       "bachelor's degree       5211\n",
       "some college             740\n",
       "primary education        282\n",
       "graduate degree            6\n",
       "Name: education, dtype: int64"
      ]
     },
     "execution_count": 33,
     "metadata": {},
     "output_type": "execute_result"
    }
   ],
   "source": [
    "credit_scoring_incomefilled['education'].value_counts()"
   ]
  },
  {
   "cell_type": "markdown",
   "metadata": {},
   "source": [
    "### Afterthoughts: \n",
    "\n",
    "1. by comparing the unique values and there count between 'education' and 'education_id' we notice that there wern't identicatl.\n",
    "\n",
    "\n",
    "2. by looking in the unique values of the 'education' column we find that there are different cases for the same value so to unify it I changed the strings to lower case and that made the values_counts between 'education' and 'education_id'identical.\n",
    "\n",
    "\n",
    "## Family Status: "
   ]
  },
  {
   "cell_type": "code",
   "execution_count": 34,
   "metadata": {},
   "outputs": [
    {
     "data": {
      "text/plain": [
       "married              12283\n",
       "civil partnership     4144\n",
       "unmarried             2788\n",
       "divorced              1183\n",
       "widow / widower        951\n",
       "Name: family_status, dtype: int64"
      ]
     },
     "execution_count": 34,
     "metadata": {},
     "output_type": "execute_result"
    }
   ],
   "source": [
    "credit_scoring_incomefilled['family_status'].value_counts()"
   ]
  },
  {
   "cell_type": "code",
   "execution_count": 35,
   "metadata": {},
   "outputs": [
    {
     "data": {
      "text/plain": [
       "0    12283\n",
       "1     4144\n",
       "4     2788\n",
       "3     1183\n",
       "2      951\n",
       "Name: family_status_id, dtype: int64"
      ]
     },
     "execution_count": 35,
     "metadata": {},
     "output_type": "execute_result"
    }
   ],
   "source": [
    "credit_scoring_incomefilled['family_status_id'].value_counts()"
   ]
  },
  {
   "cell_type": "markdown",
   "metadata": {},
   "source": [
    "### Afterthoughts: \n",
    "\n",
    "1. here we don't need to change anything as there are no duplicate values with different cases and the value_counts are identical between 'family_status' and 'family_status_id'.\n",
    "\n",
    "## Gender: "
   ]
  },
  {
   "cell_type": "code",
   "execution_count": 36,
   "metadata": {},
   "outputs": [
    {
     "data": {
      "text/plain": [
       "array(['F', 'M', 'XNA'], dtype=object)"
      ]
     },
     "execution_count": 36,
     "metadata": {},
     "output_type": "execute_result"
    }
   ],
   "source": [
    "credit_scoring_incomefilled['gender'].unique()"
   ]
  },
  {
   "cell_type": "code",
   "execution_count": 37,
   "metadata": {},
   "outputs": [
    {
     "data": {
      "text/plain": [
       "F      14118\n",
       "M       7230\n",
       "XNA        1\n",
       "Name: gender, dtype: int64"
      ]
     },
     "execution_count": 37,
     "metadata": {},
     "output_type": "execute_result"
    }
   ],
   "source": [
    "credit_scoring_incomefilled['gender'].value_counts()"
   ]
  },
  {
   "cell_type": "code",
   "execution_count": 38,
   "metadata": {},
   "outputs": [],
   "source": [
    "credit_scoring_incomefilled.loc[credit_scoring_incomefilled['gender'] == 'M','gender'] = credit_scoring_incomefilled.loc[credit_scoring_incomefilled['gender'] == 'M'] = 'Male'"
   ]
  },
  {
   "cell_type": "code",
   "execution_count": 39,
   "metadata": {},
   "outputs": [],
   "source": [
    "credit_scoring_incomefilled.loc[credit_scoring_incomefilled['gender'] == 'F','gender'] = credit_scoring_incomefilled.loc[credit_scoring_incomefilled['gender'] == 'F'] = 'Female'"
   ]
  },
  {
   "cell_type": "code",
   "execution_count": 40,
   "metadata": {},
   "outputs": [
    {
     "data": {
      "text/plain": [
       "Female    14118\n",
       "Male       7230\n",
       "Name: gender, dtype: int64"
      ]
     },
     "execution_count": 40,
     "metadata": {},
     "output_type": "execute_result"
    }
   ],
   "source": [
    "credit_scoring_incomefilled = credit_scoring_incomefilled.loc[credit_scoring_incomefilled['gender'] != 'XNA']\n",
    "credit_scoring_incomefilled['gender'].value_counts()"
   ]
  },
  {
   "cell_type": "code",
   "execution_count": 41,
   "metadata": {},
   "outputs": [
    {
     "data": {
      "text/html": [
       "<div>\n",
       "<style scoped>\n",
       "    .dataframe tbody tr th:only-of-type {\n",
       "        vertical-align: middle;\n",
       "    }\n",
       "\n",
       "    .dataframe tbody tr th {\n",
       "        vertical-align: top;\n",
       "    }\n",
       "\n",
       "    .dataframe thead th {\n",
       "        text-align: right;\n",
       "    }\n",
       "</style>\n",
       "<table border=\"1\" class=\"dataframe\">\n",
       "  <thead>\n",
       "    <tr style=\"text-align: right;\">\n",
       "      <th></th>\n",
       "      <th>children</th>\n",
       "      <th>days_employed</th>\n",
       "      <th>age</th>\n",
       "      <th>education</th>\n",
       "      <th>education_id</th>\n",
       "      <th>family_status</th>\n",
       "      <th>family_status_id</th>\n",
       "      <th>gender</th>\n",
       "      <th>income_type</th>\n",
       "      <th>debt</th>\n",
       "      <th>total_income</th>\n",
       "      <th>purpose</th>\n",
       "    </tr>\n",
       "  </thead>\n",
       "  <tbody>\n",
       "    <tr>\n",
       "      <td>0</td>\n",
       "      <td>1</td>\n",
       "      <td>8437</td>\n",
       "      <td>42</td>\n",
       "      <td>bachelor's degree</td>\n",
       "      <td>0</td>\n",
       "      <td>married</td>\n",
       "      <td>0</td>\n",
       "      <td>Female</td>\n",
       "      <td>employee</td>\n",
       "      <td>0</td>\n",
       "      <td>40620.1</td>\n",
       "      <td>purchase of the house</td>\n",
       "    </tr>\n",
       "    <tr>\n",
       "      <td>1</td>\n",
       "      <td>1</td>\n",
       "      <td>4024</td>\n",
       "      <td>36</td>\n",
       "      <td>secondary education</td>\n",
       "      <td>1</td>\n",
       "      <td>married</td>\n",
       "      <td>0</td>\n",
       "      <td>Female</td>\n",
       "      <td>employee</td>\n",
       "      <td>0</td>\n",
       "      <td>17932.8</td>\n",
       "      <td>car purchase</td>\n",
       "    </tr>\n",
       "    <tr>\n",
       "      <td>2</td>\n",
       "      <td>0</td>\n",
       "      <td>5623</td>\n",
       "      <td>33</td>\n",
       "      <td>secondary education</td>\n",
       "      <td>1</td>\n",
       "      <td>married</td>\n",
       "      <td>0</td>\n",
       "      <td>Male</td>\n",
       "      <td>employee</td>\n",
       "      <td>0</td>\n",
       "      <td>23341.8</td>\n",
       "      <td>purchase of the house</td>\n",
       "    </tr>\n",
       "    <tr>\n",
       "      <td>3</td>\n",
       "      <td>3</td>\n",
       "      <td>4124</td>\n",
       "      <td>32</td>\n",
       "      <td>secondary education</td>\n",
       "      <td>1</td>\n",
       "      <td>married</td>\n",
       "      <td>0</td>\n",
       "      <td>Male</td>\n",
       "      <td>employee</td>\n",
       "      <td>0</td>\n",
       "      <td>42820.6</td>\n",
       "      <td>supplementary education</td>\n",
       "    </tr>\n",
       "    <tr>\n",
       "      <td>4</td>\n",
       "      <td>0</td>\n",
       "      <td>340266</td>\n",
       "      <td>53</td>\n",
       "      <td>secondary education</td>\n",
       "      <td>1</td>\n",
       "      <td>civil partnership</td>\n",
       "      <td>1</td>\n",
       "      <td>Female</td>\n",
       "      <td>retiree</td>\n",
       "      <td>0</td>\n",
       "      <td>25378.6</td>\n",
       "      <td>to have a wedding</td>\n",
       "    </tr>\n",
       "    <tr>\n",
       "      <td>...</td>\n",
       "      <td>...</td>\n",
       "      <td>...</td>\n",
       "      <td>...</td>\n",
       "      <td>...</td>\n",
       "      <td>...</td>\n",
       "      <td>...</td>\n",
       "      <td>...</td>\n",
       "      <td>...</td>\n",
       "      <td>...</td>\n",
       "      <td>...</td>\n",
       "      <td>...</td>\n",
       "      <td>...</td>\n",
       "    </tr>\n",
       "    <tr>\n",
       "      <td>21520</td>\n",
       "      <td>1</td>\n",
       "      <td>4529</td>\n",
       "      <td>43</td>\n",
       "      <td>secondary education</td>\n",
       "      <td>1</td>\n",
       "      <td>civil partnership</td>\n",
       "      <td>1</td>\n",
       "      <td>Female</td>\n",
       "      <td>business</td>\n",
       "      <td>0</td>\n",
       "      <td>35966.7</td>\n",
       "      <td>housing transactions</td>\n",
       "    </tr>\n",
       "    <tr>\n",
       "      <td>21521</td>\n",
       "      <td>0</td>\n",
       "      <td>343937</td>\n",
       "      <td>67</td>\n",
       "      <td>secondary education</td>\n",
       "      <td>1</td>\n",
       "      <td>married</td>\n",
       "      <td>0</td>\n",
       "      <td>Female</td>\n",
       "      <td>retiree</td>\n",
       "      <td>0</td>\n",
       "      <td>24960</td>\n",
       "      <td>purchase of a car</td>\n",
       "    </tr>\n",
       "    <tr>\n",
       "      <td>21522</td>\n",
       "      <td>1</td>\n",
       "      <td>2113</td>\n",
       "      <td>38</td>\n",
       "      <td>secondary education</td>\n",
       "      <td>1</td>\n",
       "      <td>civil partnership</td>\n",
       "      <td>1</td>\n",
       "      <td>Male</td>\n",
       "      <td>employee</td>\n",
       "      <td>1</td>\n",
       "      <td>14347.6</td>\n",
       "      <td>property</td>\n",
       "    </tr>\n",
       "    <tr>\n",
       "      <td>21523</td>\n",
       "      <td>3</td>\n",
       "      <td>3112</td>\n",
       "      <td>38</td>\n",
       "      <td>secondary education</td>\n",
       "      <td>1</td>\n",
       "      <td>married</td>\n",
       "      <td>0</td>\n",
       "      <td>Male</td>\n",
       "      <td>employee</td>\n",
       "      <td>1</td>\n",
       "      <td>39054.9</td>\n",
       "      <td>buying my own car</td>\n",
       "    </tr>\n",
       "    <tr>\n",
       "      <td>21524</td>\n",
       "      <td>2</td>\n",
       "      <td>1984</td>\n",
       "      <td>40</td>\n",
       "      <td>secondary education</td>\n",
       "      <td>1</td>\n",
       "      <td>married</td>\n",
       "      <td>0</td>\n",
       "      <td>Female</td>\n",
       "      <td>employee</td>\n",
       "      <td>0</td>\n",
       "      <td>13127.6</td>\n",
       "      <td>to buy a car</td>\n",
       "    </tr>\n",
       "  </tbody>\n",
       "</table>\n",
       "<p>21348 rows × 12 columns</p>\n",
       "</div>"
      ],
      "text/plain": [
       "       children  days_employed  age            education  education_id  \\\n",
       "0             1           8437   42    bachelor's degree             0   \n",
       "1             1           4024   36  secondary education             1   \n",
       "2             0           5623   33  secondary education             1   \n",
       "3             3           4124   32  secondary education             1   \n",
       "4             0         340266   53  secondary education             1   \n",
       "...         ...            ...  ...                  ...           ...   \n",
       "21520         1           4529   43  secondary education             1   \n",
       "21521         0         343937   67  secondary education             1   \n",
       "21522         1           2113   38  secondary education             1   \n",
       "21523         3           3112   38  secondary education             1   \n",
       "21524         2           1984   40  secondary education             1   \n",
       "\n",
       "           family_status  family_status_id  gender income_type  debt  \\\n",
       "0                married                 0  Female    employee     0   \n",
       "1                married                 0  Female    employee     0   \n",
       "2                married                 0    Male    employee     0   \n",
       "3                married                 0    Male    employee     0   \n",
       "4      civil partnership                 1  Female     retiree     0   \n",
       "...                  ...               ...     ...         ...   ...   \n",
       "21520  civil partnership                 1  Female    business     0   \n",
       "21521            married                 0  Female     retiree     0   \n",
       "21522  civil partnership                 1    Male    employee     1   \n",
       "21523            married                 0    Male    employee     1   \n",
       "21524            married                 0  Female    employee     0   \n",
       "\n",
       "      total_income                  purpose  \n",
       "0          40620.1    purchase of the house  \n",
       "1          17932.8             car purchase  \n",
       "2          23341.8    purchase of the house  \n",
       "3          42820.6  supplementary education  \n",
       "4          25378.6        to have a wedding  \n",
       "...            ...                      ...  \n",
       "21520      35966.7     housing transactions  \n",
       "21521        24960        purchase of a car  \n",
       "21522      14347.6                 property  \n",
       "21523      39054.9        buying my own car  \n",
       "21524      13127.6             to buy a car  \n",
       "\n",
       "[21348 rows x 12 columns]"
      ]
     },
     "execution_count": 41,
     "metadata": {},
     "output_type": "execute_result"
    }
   ],
   "source": [
    "credit_scoring_incomefilled"
   ]
  },
  {
   "cell_type": "markdown",
   "metadata": {},
   "source": [
    "### Afterthoughts: \n",
    "\n",
    "1. we notice the weird value in gender 'XNA' and as there is only one value of this kind and no way to figure out what this means so I dropped it.\n",
    "\n",
    "\n",
    "2. I changed the vlaues from F,M to Female and Male to mnake it clearer.\n",
    "\n",
    "## Income Type: "
   ]
  },
  {
   "cell_type": "code",
   "execution_count": 42,
   "metadata": {
    "scrolled": true
   },
   "outputs": [
    {
     "data": {
      "text/plain": [
       "employee                       11022\n",
       "business                        5042\n",
       "retiree                         3827\n",
       "civil servant                   1451\n",
       "entrepreneur                       2\n",
       "unemployed                         2\n",
       "paternity / maternity leave        1\n",
       "student                            1\n",
       "Name: income_type, dtype: int64"
      ]
     },
     "execution_count": 42,
     "metadata": {},
     "output_type": "execute_result"
    }
   ],
   "source": [
    "credit_scoring_incomefilled['income_type'].value_counts()"
   ]
  },
  {
   "cell_type": "markdown",
   "metadata": {},
   "source": [
    "### Afterthoughts: \n",
    "\n",
    "1. here we don't need to change anything as there are no duplicate values with different cases.\n",
    "\n",
    "## Debt: "
   ]
  },
  {
   "cell_type": "code",
   "execution_count": 43,
   "metadata": {},
   "outputs": [
    {
     "data": {
      "text/plain": [
       "0    19623\n",
       "1     1725\n",
       "Name: debt, dtype: int64"
      ]
     },
     "execution_count": 43,
     "metadata": {},
     "output_type": "execute_result"
    }
   ],
   "source": [
    "credit_scoring_incomefilled['debt'].value_counts()"
   ]
  },
  {
   "cell_type": "code",
   "execution_count": 44,
   "metadata": {},
   "outputs": [],
   "source": [
    "credit_scoring_incomefilled = credit_scoring_incomefilled.rename(columns={'debt':'defaulted'})  # rename the column"
   ]
  },
  {
   "cell_type": "code",
   "execution_count": 45,
   "metadata": {},
   "outputs": [
    {
     "data": {
      "text/plain": [
       "False    19623\n",
       "True      1725\n",
       "Name: defaulted, dtype: int64"
      ]
     },
     "execution_count": 45,
     "metadata": {},
     "output_type": "execute_result"
    }
   ],
   "source": [
    "credit_scoring_incomefilled['defaulted'] = credit_scoring_incomefilled['defaulted'].astype('bool')\n",
    "credit_scoring_incomefilled['defaulted'].value_counts()"
   ]
  },
  {
   "cell_type": "markdown",
   "metadata": {},
   "source": [
    "### Afterthoughts: \n",
    "\n",
    "1. to make everything clearer I changed the name of debt column to defaulted and chaged the type to boolean as the results could only be either yes or no.\n",
    "\n",
    "## Total income: "
   ]
  },
  {
   "cell_type": "code",
   "execution_count": 46,
   "metadata": {},
   "outputs": [
    {
     "data": {
      "text/plain": [
       "count     21348.000000\n",
       "mean      26792.576588\n",
       "std       15650.027542\n",
       "min        3306.000000\n",
       "25%       17246.750000\n",
       "50%       25021.500000\n",
       "75%       31274.750000\n",
       "max      362496.000000\n",
       "Name: total_income, dtype: float64"
      ]
     },
     "execution_count": 46,
     "metadata": {},
     "output_type": "execute_result"
    }
   ],
   "source": [
    "credit_scoring_incomefilled['total_income'] = credit_scoring_incomefilled['total_income'].astype('int')\n",
    "credit_scoring_incomefilled['total_income'].describe()"
   ]
  },
  {
   "cell_type": "markdown",
   "metadata": {},
   "source": [
    "### Afterthoughts: \n",
    "\n",
    "1. I changed the total_income type from float to int just to make it clearer but either ways it is correct.\n",
    "\n",
    "\n",
    "2. in the income there are no negative values so we don't need to change anything else but we need to remember that some of the values were missing and were filled with the mean.\n",
    "\n",
    "## Purpose: "
   ]
  },
  {
   "cell_type": "code",
   "execution_count": 47,
   "metadata": {},
   "outputs": [
    {
     "data": {
      "text/plain": [
       "wedding ceremony                            791\n",
       "having a wedding                            769\n",
       "to have a wedding                           765\n",
       "real estate transactions                    672\n",
       "buy commercial real estate                  658\n",
       "buying property for renting out             650\n",
       "transactions with commercial real estate    645\n",
       "housing transactions                        643\n",
       "purchase of the house for my family         639\n",
       "purchase of the house                       638\n",
       "housing                                     637\n",
       "property                                    629\n",
       "transactions with my real estate            629\n",
       "construction of own property                627\n",
       "building a real estate                      622\n",
       "building a property                         620\n",
       "purchase of my own house                    619\n",
       "buy real estate                             618\n",
       "housing renovation                          608\n",
       "buy residential real estate                 602\n",
       "buying my own car                           502\n",
       "going to university                         493\n",
       "car                                         490\n",
       "second-hand car purchase                    483\n",
       "cars                                        475\n",
       "to own a car                                474\n",
       "buying a second-hand car                    473\n",
       "to buy a car                                467\n",
       "car purchase                                460\n",
       "supplementary education                     457\n",
       "purchase of a car                           454\n",
       "university education                        445\n",
       "to get a supplementary education            444\n",
       "education                                   442\n",
       "getting an education                        441\n",
       "profile education                           433\n",
       "getting higher education                    423\n",
       "to become educated                          411\n",
       "Name: purpose, dtype: int64"
      ]
     },
     "execution_count": 47,
     "metadata": {},
     "output_type": "execute_result"
    }
   ],
   "source": [
    "credit_scoring_incomefilled['purpose'].value_counts()"
   ]
  },
  {
   "cell_type": "markdown",
   "metadata": {},
   "source": [
    "### Afterthoughts: \n",
    "\n",
    "1. we can notice that there are serveral values with the same meaning but different wording so this will need further work with stemming and lemmatization to unify the purposes. in my opinion this needs to be done after finding the duplicates to avoid creating more and unnecessary duplicates."
   ]
  },
  {
   "cell_type": "markdown",
   "metadata": {},
   "source": [
    "# Duplicates:"
   ]
  },
  {
   "cell_type": "code",
   "execution_count": 48,
   "metadata": {},
   "outputs": [
    {
     "data": {
      "text/plain": [
       "71"
      ]
     },
     "execution_count": 48,
     "metadata": {},
     "output_type": "execute_result"
    }
   ],
   "source": [
    "duplicates = credit_scoring_incomefilled.duplicated().sum()\n",
    "duplicates"
   ]
  },
  {
   "cell_type": "code",
   "execution_count": 49,
   "metadata": {},
   "outputs": [
    {
     "data": {
      "text/plain": [
       "0.3325838486040847"
      ]
     },
     "execution_count": 49,
     "metadata": {},
     "output_type": "execute_result"
    }
   ],
   "source": [
    "duplicates_Percentage = (duplicates / len(credit_scoring_incomefilled)) * 100\n",
    "duplicates_Percentage"
   ]
  },
  {
   "cell_type": "code",
   "execution_count": 50,
   "metadata": {},
   "outputs": [
    {
     "data": {
      "text/plain": [
       "0"
      ]
     },
     "execution_count": 50,
     "metadata": {},
     "output_type": "execute_result"
    }
   ],
   "source": [
    "credit_scoring_incomefilled = credit_scoring_incomefilled.drop_duplicates().reset_index(drop = True)\n",
    "credit_scoring_incomefilled.duplicated().sum()"
   ]
  },
  {
   "cell_type": "markdown",
   "metadata": {},
   "source": [
    "### Notes:\n",
    "\n",
    "1. There are 71 duplicated rows which make around 0.3 % of the data and that is fairly small and will not make an impcat on the results so I dropped them. now our data have no missing values and duplicates so we continue to trhe next step which is Categorizing the data.\n",
    "\n",
    "# Categorizing Data:\n",
    "\n",
    "## Purpose:"
   ]
  },
  {
   "cell_type": "markdown",
   "metadata": {},
   "source": [
    "<div class=\"alert alert-success\" role=\"alert\">\n",
    "Reviewer's comment v. 2:\n",
    "    \n",
    "Yes, drop these duplicates.\n",
    "</div>"
   ]
  },
  {
   "cell_type": "code",
   "execution_count": 51,
   "metadata": {},
   "outputs": [
    {
     "data": {
      "text/plain": [
       "0        [purchase, of, the, house]\n",
       "1                   [car, purchase]\n",
       "2        [purchase, of, the, house]\n",
       "3        [supplementary, education]\n",
       "4            [to, have, a, wedding]\n",
       "                    ...            \n",
       "21520        [housing, transaction]\n",
       "21521        [purchase, of, a, car]\n",
       "21522                    [property]\n",
       "21523        [buying, my, own, car]\n",
       "21524             [to, buy, a, car]\n",
       "Name: purpose, Length: 21525, dtype: object"
      ]
     },
     "execution_count": 51,
     "metadata": {},
     "output_type": "execute_result"
    }
   ],
   "source": [
    "def lemmatize_count(purpose):\n",
    "    token = nltk.word_tokenize(purpose)\n",
    "    lemma = [wordnet_lemma.lemmatize(w, pos = 'n') for w in token]\n",
    "    return lemma\n",
    "lemma_result = credit_scoring['purpose'].apply(lemmatize_count)\n",
    "lemma_result"
   ]
  },
  {
   "cell_type": "code",
   "execution_count": 52,
   "metadata": {},
   "outputs": [
    {
     "data": {
      "text/plain": [
       "purchase         3314\n",
       "of               2998\n",
       "the              1288\n",
       "house            1908\n",
       "car              4315\n",
       "supplementary     909\n",
       "education        3114\n",
       "to               3081\n",
       "have              774\n",
       "a                5130\n",
       "wedding          2348\n",
       "housing          1912\n",
       "transaction      2610\n",
       "having            777\n",
       "for              1294\n",
       "my               2396\n",
       "family            641\n",
       "buy              2367\n",
       "real             4478\n",
       "estate           4478\n",
       "commercial       1315\n",
       "residential       607\n",
       "construction      635\n",
       "own              2240\n",
       "property         2542\n",
       "building         1246\n",
       "buying           1637\n",
       "second-hand       968\n",
       "with             1281\n",
       "become            412\n",
       "educated          412\n",
       "getting           869\n",
       "an                443\n",
       "ceremony          797\n",
       "get               447\n",
       "higher            426\n",
       "profile           436\n",
       "university        949\n",
       "renting           653\n",
       "out               653\n",
       "renovation        612\n",
       "going             496\n",
       "dtype: int64"
      ]
     },
     "execution_count": 52,
     "metadata": {},
     "output_type": "execute_result"
    }
   ],
   "source": [
    "count_lemma_result = pd.Series(Counter([W for L in lemma_result for W in L]))\n",
    "count_lemma_result"
   ]
  },
  {
   "cell_type": "code",
   "execution_count": 53,
   "metadata": {},
   "outputs": [],
   "source": [
    "def purpose_cat(lemma):\n",
    "    categories = {'education': ['education', 'educated','university'],\n",
    "                'real estate': ['house', 'housing', 'estate','property',],\n",
    "                'car': ['car'],\n",
    "                'wedding': ['wedding', 'ceremony']}\n",
    "    for word in lemma:\n",
    "        for cat in categories:\n",
    "            if word in categories[cat]:\n",
    "                return cat\n",
    "\n",
    "#def lemmatize(purpose):\n",
    "   # token = nltk.word_tokenize(purpose)\n",
    "   #lemma = [wordnet_lemma.lemmatize(w, pos = 'n') for w in token]\n",
    "   # return purpose_cat(lemma)"
   ]
  },
  {
   "cell_type": "code",
   "execution_count": 54,
   "metadata": {},
   "outputs": [
    {
     "data": {
      "text/html": [
       "<div>\n",
       "<style scoped>\n",
       "    .dataframe tbody tr th:only-of-type {\n",
       "        vertical-align: middle;\n",
       "    }\n",
       "\n",
       "    .dataframe tbody tr th {\n",
       "        vertical-align: top;\n",
       "    }\n",
       "\n",
       "    .dataframe thead th {\n",
       "        text-align: right;\n",
       "    }\n",
       "</style>\n",
       "<table border=\"1\" class=\"dataframe\">\n",
       "  <thead>\n",
       "    <tr style=\"text-align: right;\">\n",
       "      <th></th>\n",
       "      <th>children</th>\n",
       "      <th>days_employed</th>\n",
       "      <th>age</th>\n",
       "      <th>education</th>\n",
       "      <th>education_id</th>\n",
       "      <th>family_status</th>\n",
       "      <th>family_status_id</th>\n",
       "      <th>gender</th>\n",
       "      <th>income_type</th>\n",
       "      <th>defaulted</th>\n",
       "      <th>total_income</th>\n",
       "      <th>purpose</th>\n",
       "      <th>purpose_category</th>\n",
       "    </tr>\n",
       "  </thead>\n",
       "  <tbody>\n",
       "    <tr>\n",
       "      <td>0</td>\n",
       "      <td>1</td>\n",
       "      <td>8437</td>\n",
       "      <td>42</td>\n",
       "      <td>bachelor's degree</td>\n",
       "      <td>0</td>\n",
       "      <td>married</td>\n",
       "      <td>0</td>\n",
       "      <td>Female</td>\n",
       "      <td>employee</td>\n",
       "      <td>False</td>\n",
       "      <td>40620</td>\n",
       "      <td>purchase of the house</td>\n",
       "      <td>real estate</td>\n",
       "    </tr>\n",
       "    <tr>\n",
       "      <td>1</td>\n",
       "      <td>1</td>\n",
       "      <td>4024</td>\n",
       "      <td>36</td>\n",
       "      <td>secondary education</td>\n",
       "      <td>1</td>\n",
       "      <td>married</td>\n",
       "      <td>0</td>\n",
       "      <td>Female</td>\n",
       "      <td>employee</td>\n",
       "      <td>False</td>\n",
       "      <td>17932</td>\n",
       "      <td>car purchase</td>\n",
       "      <td>car</td>\n",
       "    </tr>\n",
       "    <tr>\n",
       "      <td>2</td>\n",
       "      <td>0</td>\n",
       "      <td>5623</td>\n",
       "      <td>33</td>\n",
       "      <td>secondary education</td>\n",
       "      <td>1</td>\n",
       "      <td>married</td>\n",
       "      <td>0</td>\n",
       "      <td>Male</td>\n",
       "      <td>employee</td>\n",
       "      <td>False</td>\n",
       "      <td>23341</td>\n",
       "      <td>purchase of the house</td>\n",
       "      <td>real estate</td>\n",
       "    </tr>\n",
       "    <tr>\n",
       "      <td>3</td>\n",
       "      <td>3</td>\n",
       "      <td>4124</td>\n",
       "      <td>32</td>\n",
       "      <td>secondary education</td>\n",
       "      <td>1</td>\n",
       "      <td>married</td>\n",
       "      <td>0</td>\n",
       "      <td>Male</td>\n",
       "      <td>employee</td>\n",
       "      <td>False</td>\n",
       "      <td>42820</td>\n",
       "      <td>supplementary education</td>\n",
       "      <td>education</td>\n",
       "    </tr>\n",
       "    <tr>\n",
       "      <td>4</td>\n",
       "      <td>0</td>\n",
       "      <td>340266</td>\n",
       "      <td>53</td>\n",
       "      <td>secondary education</td>\n",
       "      <td>1</td>\n",
       "      <td>civil partnership</td>\n",
       "      <td>1</td>\n",
       "      <td>Female</td>\n",
       "      <td>retiree</td>\n",
       "      <td>False</td>\n",
       "      <td>25378</td>\n",
       "      <td>to have a wedding</td>\n",
       "      <td>wedding</td>\n",
       "    </tr>\n",
       "    <tr>\n",
       "      <td>...</td>\n",
       "      <td>...</td>\n",
       "      <td>...</td>\n",
       "      <td>...</td>\n",
       "      <td>...</td>\n",
       "      <td>...</td>\n",
       "      <td>...</td>\n",
       "      <td>...</td>\n",
       "      <td>...</td>\n",
       "      <td>...</td>\n",
       "      <td>...</td>\n",
       "      <td>...</td>\n",
       "      <td>...</td>\n",
       "      <td>...</td>\n",
       "    </tr>\n",
       "    <tr>\n",
       "      <td>21272</td>\n",
       "      <td>1</td>\n",
       "      <td>4529</td>\n",
       "      <td>43</td>\n",
       "      <td>secondary education</td>\n",
       "      <td>1</td>\n",
       "      <td>civil partnership</td>\n",
       "      <td>1</td>\n",
       "      <td>Female</td>\n",
       "      <td>business</td>\n",
       "      <td>False</td>\n",
       "      <td>35966</td>\n",
       "      <td>housing transactions</td>\n",
       "      <td>real estate</td>\n",
       "    </tr>\n",
       "    <tr>\n",
       "      <td>21273</td>\n",
       "      <td>0</td>\n",
       "      <td>343937</td>\n",
       "      <td>67</td>\n",
       "      <td>secondary education</td>\n",
       "      <td>1</td>\n",
       "      <td>married</td>\n",
       "      <td>0</td>\n",
       "      <td>Female</td>\n",
       "      <td>retiree</td>\n",
       "      <td>False</td>\n",
       "      <td>24959</td>\n",
       "      <td>purchase of a car</td>\n",
       "      <td>real estate</td>\n",
       "    </tr>\n",
       "    <tr>\n",
       "      <td>21274</td>\n",
       "      <td>1</td>\n",
       "      <td>2113</td>\n",
       "      <td>38</td>\n",
       "      <td>secondary education</td>\n",
       "      <td>1</td>\n",
       "      <td>civil partnership</td>\n",
       "      <td>1</td>\n",
       "      <td>Male</td>\n",
       "      <td>employee</td>\n",
       "      <td>True</td>\n",
       "      <td>14347</td>\n",
       "      <td>property</td>\n",
       "      <td>wedding</td>\n",
       "    </tr>\n",
       "    <tr>\n",
       "      <td>21275</td>\n",
       "      <td>3</td>\n",
       "      <td>3112</td>\n",
       "      <td>38</td>\n",
       "      <td>secondary education</td>\n",
       "      <td>1</td>\n",
       "      <td>married</td>\n",
       "      <td>0</td>\n",
       "      <td>Male</td>\n",
       "      <td>employee</td>\n",
       "      <td>True</td>\n",
       "      <td>39054</td>\n",
       "      <td>buying my own car</td>\n",
       "      <td>real estate</td>\n",
       "    </tr>\n",
       "    <tr>\n",
       "      <td>21276</td>\n",
       "      <td>2</td>\n",
       "      <td>1984</td>\n",
       "      <td>40</td>\n",
       "      <td>secondary education</td>\n",
       "      <td>1</td>\n",
       "      <td>married</td>\n",
       "      <td>0</td>\n",
       "      <td>Female</td>\n",
       "      <td>employee</td>\n",
       "      <td>False</td>\n",
       "      <td>13127</td>\n",
       "      <td>to buy a car</td>\n",
       "      <td>car</td>\n",
       "    </tr>\n",
       "  </tbody>\n",
       "</table>\n",
       "<p>21277 rows × 13 columns</p>\n",
       "</div>"
      ],
      "text/plain": [
       "       children  days_employed  age            education  education_id  \\\n",
       "0             1           8437   42    bachelor's degree             0   \n",
       "1             1           4024   36  secondary education             1   \n",
       "2             0           5623   33  secondary education             1   \n",
       "3             3           4124   32  secondary education             1   \n",
       "4             0         340266   53  secondary education             1   \n",
       "...         ...            ...  ...                  ...           ...   \n",
       "21272         1           4529   43  secondary education             1   \n",
       "21273         0         343937   67  secondary education             1   \n",
       "21274         1           2113   38  secondary education             1   \n",
       "21275         3           3112   38  secondary education             1   \n",
       "21276         2           1984   40  secondary education             1   \n",
       "\n",
       "           family_status  family_status_id  gender income_type  defaulted  \\\n",
       "0                married                 0  Female    employee      False   \n",
       "1                married                 0  Female    employee      False   \n",
       "2                married                 0    Male    employee      False   \n",
       "3                married                 0    Male    employee      False   \n",
       "4      civil partnership                 1  Female     retiree      False   \n",
       "...                  ...               ...     ...         ...        ...   \n",
       "21272  civil partnership                 1  Female    business      False   \n",
       "21273            married                 0  Female     retiree      False   \n",
       "21274  civil partnership                 1    Male    employee       True   \n",
       "21275            married                 0    Male    employee       True   \n",
       "21276            married                 0  Female    employee      False   \n",
       "\n",
       "       total_income                  purpose purpose_category  \n",
       "0             40620    purchase of the house      real estate  \n",
       "1             17932             car purchase              car  \n",
       "2             23341    purchase of the house      real estate  \n",
       "3             42820  supplementary education        education  \n",
       "4             25378        to have a wedding          wedding  \n",
       "...             ...                      ...              ...  \n",
       "21272         35966     housing transactions      real estate  \n",
       "21273         24959        purchase of a car      real estate  \n",
       "21274         14347                 property          wedding  \n",
       "21275         39054        buying my own car      real estate  \n",
       "21276         13127             to buy a car              car  \n",
       "\n",
       "[21277 rows x 13 columns]"
      ]
     },
     "execution_count": 54,
     "metadata": {},
     "output_type": "execute_result"
    }
   ],
   "source": [
    "credit_scoring_incomefilled['purpose_category'] = lemma_result.apply(purpose_cat)\n",
    "credit_scoring_incomefilled"
   ]
  },
  {
   "cell_type": "markdown",
   "metadata": {},
   "source": [
    "#### Afterthoughts:\n",
    "\n",
    "1. we used lemmatization to find a list of the used words and from these words i applied a function to split the purpose into 4 categories: Eduaction - Wedding - Real Estate - Car\n",
    "\n",
    "## Total Income:"
   ]
  },
  {
   "cell_type": "code",
   "execution_count": 55,
   "metadata": {},
   "outputs": [
    {
     "data": {
      "text/plain": [
       "count     21277.000000\n",
       "mean      26792.595197\n",
       "std       15676.118592\n",
       "min        3306.000000\n",
       "25%       17219.000000\n",
       "50%       24966.000000\n",
       "75%       31320.000000\n",
       "max      362496.000000\n",
       "Name: total_income, dtype: float64"
      ]
     },
     "execution_count": 55,
     "metadata": {},
     "output_type": "execute_result"
    }
   ],
   "source": [
    "credit_scoring_incomefilled['total_income'].describe()"
   ]
  },
  {
   "cell_type": "code",
   "execution_count": 56,
   "metadata": {},
   "outputs": [],
   "source": [
    "def total_income_cat(income):\n",
    "    if income < 17000:\n",
    "        income_cat = 'low income'\n",
    "    elif income < 25000:\n",
    "        income_cat = 'below average income'\n",
    "    elif income < 32000:\n",
    "        income_cat = 'above average income'\n",
    "    else:\n",
    "        income_cat = 'high income'\n",
    "    return income_cat"
   ]
  },
  {
   "cell_type": "code",
   "execution_count": 57,
   "metadata": {},
   "outputs": [
    {
     "data": {
      "text/html": [
       "<div>\n",
       "<style scoped>\n",
       "    .dataframe tbody tr th:only-of-type {\n",
       "        vertical-align: middle;\n",
       "    }\n",
       "\n",
       "    .dataframe tbody tr th {\n",
       "        vertical-align: top;\n",
       "    }\n",
       "\n",
       "    .dataframe thead th {\n",
       "        text-align: right;\n",
       "    }\n",
       "</style>\n",
       "<table border=\"1\" class=\"dataframe\">\n",
       "  <thead>\n",
       "    <tr style=\"text-align: right;\">\n",
       "      <th></th>\n",
       "      <th>children</th>\n",
       "      <th>days_employed</th>\n",
       "      <th>age</th>\n",
       "      <th>education</th>\n",
       "      <th>education_id</th>\n",
       "      <th>family_status</th>\n",
       "      <th>family_status_id</th>\n",
       "      <th>gender</th>\n",
       "      <th>income_type</th>\n",
       "      <th>defaulted</th>\n",
       "      <th>total_income</th>\n",
       "      <th>purpose</th>\n",
       "      <th>purpose_category</th>\n",
       "      <th>total_income_category</th>\n",
       "    </tr>\n",
       "  </thead>\n",
       "  <tbody>\n",
       "    <tr>\n",
       "      <td>0</td>\n",
       "      <td>1</td>\n",
       "      <td>8437</td>\n",
       "      <td>42</td>\n",
       "      <td>bachelor's degree</td>\n",
       "      <td>0</td>\n",
       "      <td>married</td>\n",
       "      <td>0</td>\n",
       "      <td>Female</td>\n",
       "      <td>employee</td>\n",
       "      <td>False</td>\n",
       "      <td>40620</td>\n",
       "      <td>purchase of the house</td>\n",
       "      <td>real estate</td>\n",
       "      <td>high income</td>\n",
       "    </tr>\n",
       "    <tr>\n",
       "      <td>1</td>\n",
       "      <td>1</td>\n",
       "      <td>4024</td>\n",
       "      <td>36</td>\n",
       "      <td>secondary education</td>\n",
       "      <td>1</td>\n",
       "      <td>married</td>\n",
       "      <td>0</td>\n",
       "      <td>Female</td>\n",
       "      <td>employee</td>\n",
       "      <td>False</td>\n",
       "      <td>17932</td>\n",
       "      <td>car purchase</td>\n",
       "      <td>car</td>\n",
       "      <td>below average income</td>\n",
       "    </tr>\n",
       "    <tr>\n",
       "      <td>2</td>\n",
       "      <td>0</td>\n",
       "      <td>5623</td>\n",
       "      <td>33</td>\n",
       "      <td>secondary education</td>\n",
       "      <td>1</td>\n",
       "      <td>married</td>\n",
       "      <td>0</td>\n",
       "      <td>Male</td>\n",
       "      <td>employee</td>\n",
       "      <td>False</td>\n",
       "      <td>23341</td>\n",
       "      <td>purchase of the house</td>\n",
       "      <td>real estate</td>\n",
       "      <td>below average income</td>\n",
       "    </tr>\n",
       "    <tr>\n",
       "      <td>3</td>\n",
       "      <td>3</td>\n",
       "      <td>4124</td>\n",
       "      <td>32</td>\n",
       "      <td>secondary education</td>\n",
       "      <td>1</td>\n",
       "      <td>married</td>\n",
       "      <td>0</td>\n",
       "      <td>Male</td>\n",
       "      <td>employee</td>\n",
       "      <td>False</td>\n",
       "      <td>42820</td>\n",
       "      <td>supplementary education</td>\n",
       "      <td>education</td>\n",
       "      <td>high income</td>\n",
       "    </tr>\n",
       "    <tr>\n",
       "      <td>4</td>\n",
       "      <td>0</td>\n",
       "      <td>340266</td>\n",
       "      <td>53</td>\n",
       "      <td>secondary education</td>\n",
       "      <td>1</td>\n",
       "      <td>civil partnership</td>\n",
       "      <td>1</td>\n",
       "      <td>Female</td>\n",
       "      <td>retiree</td>\n",
       "      <td>False</td>\n",
       "      <td>25378</td>\n",
       "      <td>to have a wedding</td>\n",
       "      <td>wedding</td>\n",
       "      <td>above average income</td>\n",
       "    </tr>\n",
       "    <tr>\n",
       "      <td>...</td>\n",
       "      <td>...</td>\n",
       "      <td>...</td>\n",
       "      <td>...</td>\n",
       "      <td>...</td>\n",
       "      <td>...</td>\n",
       "      <td>...</td>\n",
       "      <td>...</td>\n",
       "      <td>...</td>\n",
       "      <td>...</td>\n",
       "      <td>...</td>\n",
       "      <td>...</td>\n",
       "      <td>...</td>\n",
       "      <td>...</td>\n",
       "      <td>...</td>\n",
       "    </tr>\n",
       "    <tr>\n",
       "      <td>21272</td>\n",
       "      <td>1</td>\n",
       "      <td>4529</td>\n",
       "      <td>43</td>\n",
       "      <td>secondary education</td>\n",
       "      <td>1</td>\n",
       "      <td>civil partnership</td>\n",
       "      <td>1</td>\n",
       "      <td>Female</td>\n",
       "      <td>business</td>\n",
       "      <td>False</td>\n",
       "      <td>35966</td>\n",
       "      <td>housing transactions</td>\n",
       "      <td>real estate</td>\n",
       "      <td>high income</td>\n",
       "    </tr>\n",
       "    <tr>\n",
       "      <td>21273</td>\n",
       "      <td>0</td>\n",
       "      <td>343937</td>\n",
       "      <td>67</td>\n",
       "      <td>secondary education</td>\n",
       "      <td>1</td>\n",
       "      <td>married</td>\n",
       "      <td>0</td>\n",
       "      <td>Female</td>\n",
       "      <td>retiree</td>\n",
       "      <td>False</td>\n",
       "      <td>24959</td>\n",
       "      <td>purchase of a car</td>\n",
       "      <td>real estate</td>\n",
       "      <td>below average income</td>\n",
       "    </tr>\n",
       "    <tr>\n",
       "      <td>21274</td>\n",
       "      <td>1</td>\n",
       "      <td>2113</td>\n",
       "      <td>38</td>\n",
       "      <td>secondary education</td>\n",
       "      <td>1</td>\n",
       "      <td>civil partnership</td>\n",
       "      <td>1</td>\n",
       "      <td>Male</td>\n",
       "      <td>employee</td>\n",
       "      <td>True</td>\n",
       "      <td>14347</td>\n",
       "      <td>property</td>\n",
       "      <td>wedding</td>\n",
       "      <td>low income</td>\n",
       "    </tr>\n",
       "    <tr>\n",
       "      <td>21275</td>\n",
       "      <td>3</td>\n",
       "      <td>3112</td>\n",
       "      <td>38</td>\n",
       "      <td>secondary education</td>\n",
       "      <td>1</td>\n",
       "      <td>married</td>\n",
       "      <td>0</td>\n",
       "      <td>Male</td>\n",
       "      <td>employee</td>\n",
       "      <td>True</td>\n",
       "      <td>39054</td>\n",
       "      <td>buying my own car</td>\n",
       "      <td>real estate</td>\n",
       "      <td>high income</td>\n",
       "    </tr>\n",
       "    <tr>\n",
       "      <td>21276</td>\n",
       "      <td>2</td>\n",
       "      <td>1984</td>\n",
       "      <td>40</td>\n",
       "      <td>secondary education</td>\n",
       "      <td>1</td>\n",
       "      <td>married</td>\n",
       "      <td>0</td>\n",
       "      <td>Female</td>\n",
       "      <td>employee</td>\n",
       "      <td>False</td>\n",
       "      <td>13127</td>\n",
       "      <td>to buy a car</td>\n",
       "      <td>car</td>\n",
       "      <td>low income</td>\n",
       "    </tr>\n",
       "  </tbody>\n",
       "</table>\n",
       "<p>21277 rows × 14 columns</p>\n",
       "</div>"
      ],
      "text/plain": [
       "       children  days_employed  age            education  education_id  \\\n",
       "0             1           8437   42    bachelor's degree             0   \n",
       "1             1           4024   36  secondary education             1   \n",
       "2             0           5623   33  secondary education             1   \n",
       "3             3           4124   32  secondary education             1   \n",
       "4             0         340266   53  secondary education             1   \n",
       "...         ...            ...  ...                  ...           ...   \n",
       "21272         1           4529   43  secondary education             1   \n",
       "21273         0         343937   67  secondary education             1   \n",
       "21274         1           2113   38  secondary education             1   \n",
       "21275         3           3112   38  secondary education             1   \n",
       "21276         2           1984   40  secondary education             1   \n",
       "\n",
       "           family_status  family_status_id  gender income_type  defaulted  \\\n",
       "0                married                 0  Female    employee      False   \n",
       "1                married                 0  Female    employee      False   \n",
       "2                married                 0    Male    employee      False   \n",
       "3                married                 0    Male    employee      False   \n",
       "4      civil partnership                 1  Female     retiree      False   \n",
       "...                  ...               ...     ...         ...        ...   \n",
       "21272  civil partnership                 1  Female    business      False   \n",
       "21273            married                 0  Female     retiree      False   \n",
       "21274  civil partnership                 1    Male    employee       True   \n",
       "21275            married                 0    Male    employee       True   \n",
       "21276            married                 0  Female    employee      False   \n",
       "\n",
       "       total_income                  purpose purpose_category  \\\n",
       "0             40620    purchase of the house      real estate   \n",
       "1             17932             car purchase              car   \n",
       "2             23341    purchase of the house      real estate   \n",
       "3             42820  supplementary education        education   \n",
       "4             25378        to have a wedding          wedding   \n",
       "...             ...                      ...              ...   \n",
       "21272         35966     housing transactions      real estate   \n",
       "21273         24959        purchase of a car      real estate   \n",
       "21274         14347                 property          wedding   \n",
       "21275         39054        buying my own car      real estate   \n",
       "21276         13127             to buy a car              car   \n",
       "\n",
       "      total_income_category  \n",
       "0               high income  \n",
       "1      below average income  \n",
       "2      below average income  \n",
       "3               high income  \n",
       "4      above average income  \n",
       "...                     ...  \n",
       "21272           high income  \n",
       "21273  below average income  \n",
       "21274            low income  \n",
       "21275           high income  \n",
       "21276            low income  \n",
       "\n",
       "[21277 rows x 14 columns]"
      ]
     },
     "execution_count": 57,
     "metadata": {},
     "output_type": "execute_result"
    }
   ],
   "source": [
    "credit_scoring_incomefilled['total_income_category'] = credit_scoring_incomefilled['total_income'].apply(total_income_cat)\n",
    "credit_scoring_incomefilled"
   ]
  },
  {
   "cell_type": "markdown",
   "metadata": {},
   "source": [
    "#### Afterthoughts:\n",
    "\n",
    "1. the total income was categorized based on the results of the describe method and were split into 4 categories: low income - below average income - above average income - hight income\n",
    "\n",
    "* **for now these are the obvious categories thatt we need but we may add other categories as needed.**"
   ]
  },
  {
   "cell_type": "markdown",
   "metadata": {},
   "source": [
    "# Answer these questions:\n",
    "\n",
    "### 1. Is there a relation between having kids and repaying a loan on time?"
   ]
  },
  {
   "cell_type": "code",
   "execution_count": 58,
   "metadata": {},
   "outputs": [
    {
     "data": {
      "text/html": [
       "<div>\n",
       "<style scoped>\n",
       "    .dataframe tbody tr th:only-of-type {\n",
       "        vertical-align: middle;\n",
       "    }\n",
       "\n",
       "    .dataframe tbody tr th {\n",
       "        vertical-align: top;\n",
       "    }\n",
       "\n",
       "    .dataframe thead th {\n",
       "        text-align: right;\n",
       "    }\n",
       "</style>\n",
       "<table border=\"1\" class=\"dataframe\">\n",
       "  <thead>\n",
       "    <tr style=\"text-align: right;\">\n",
       "      <th>defaulted</th>\n",
       "      <th>False</th>\n",
       "      <th>True</th>\n",
       "      <th>default-rate</th>\n",
       "    </tr>\n",
       "    <tr>\n",
       "      <th>children</th>\n",
       "      <th></th>\n",
       "      <th></th>\n",
       "      <th></th>\n",
       "    </tr>\n",
       "  </thead>\n",
       "  <tbody>\n",
       "    <tr>\n",
       "      <td>0</td>\n",
       "      <td>12963.0</td>\n",
       "      <td>1058.0</td>\n",
       "      <td>7.545824</td>\n",
       "    </tr>\n",
       "    <tr>\n",
       "      <td>1</td>\n",
       "      <td>4397.0</td>\n",
       "      <td>442.0</td>\n",
       "      <td>9.134119</td>\n",
       "    </tr>\n",
       "    <tr>\n",
       "      <td>2</td>\n",
       "      <td>1845.0</td>\n",
       "      <td>194.0</td>\n",
       "      <td>9.514468</td>\n",
       "    </tr>\n",
       "    <tr>\n",
       "      <td>3</td>\n",
       "      <td>301.0</td>\n",
       "      <td>27.0</td>\n",
       "      <td>8.231707</td>\n",
       "    </tr>\n",
       "    <tr>\n",
       "      <td>4</td>\n",
       "      <td>37.0</td>\n",
       "      <td>4.0</td>\n",
       "      <td>9.756098</td>\n",
       "    </tr>\n",
       "    <tr>\n",
       "      <td>5</td>\n",
       "      <td>9.0</td>\n",
       "      <td>NaN</td>\n",
       "      <td>NaN</td>\n",
       "    </tr>\n",
       "  </tbody>\n",
       "</table>\n",
       "</div>"
      ],
      "text/plain": [
       "defaulted    False    True  default-rate\n",
       "children                                \n",
       "0          12963.0  1058.0      7.545824\n",
       "1           4397.0   442.0      9.134119\n",
       "2           1845.0   194.0      9.514468\n",
       "3            301.0    27.0      8.231707\n",
       "4             37.0     4.0      9.756098\n",
       "5              9.0     NaN           NaN"
      ]
     },
     "execution_count": 58,
     "metadata": {},
     "output_type": "execute_result"
    }
   ],
   "source": [
    "pivot_children = credit_scoring_incomefilled.pivot_table(index ='children',columns ='defaulted',values='gender',aggfunc='count')\n",
    "pivot_children['default-rate'] = (pivot_children[True] / (pivot_children[False] + pivot_children[True]))*100 \n",
    "pivot_children"
   ]
  },
  {
   "cell_type": "code",
   "execution_count": 59,
   "metadata": {},
   "outputs": [
    {
     "data": {
      "text/html": [
       "<div>\n",
       "<style scoped>\n",
       "    .dataframe tbody tr th:only-of-type {\n",
       "        vertical-align: middle;\n",
       "    }\n",
       "\n",
       "    .dataframe tbody tr th {\n",
       "        vertical-align: top;\n",
       "    }\n",
       "\n",
       "    .dataframe thead th {\n",
       "        text-align: right;\n",
       "    }\n",
       "</style>\n",
       "<table border=\"1\" class=\"dataframe\">\n",
       "  <thead>\n",
       "    <tr style=\"text-align: right;\">\n",
       "      <th></th>\n",
       "      <th>defaulted</th>\n",
       "      <th>False</th>\n",
       "      <th>True</th>\n",
       "      <th>default-rate</th>\n",
       "    </tr>\n",
       "    <tr>\n",
       "      <th>children</th>\n",
       "      <th>gender</th>\n",
       "      <th></th>\n",
       "      <th></th>\n",
       "      <th></th>\n",
       "    </tr>\n",
       "  </thead>\n",
       "  <tbody>\n",
       "    <tr>\n",
       "      <td rowspan=\"2\" valign=\"top\">0</td>\n",
       "      <td>Female</td>\n",
       "      <td>8881.0</td>\n",
       "      <td>589.0</td>\n",
       "      <td>6.219641</td>\n",
       "    </tr>\n",
       "    <tr>\n",
       "      <td>Male</td>\n",
       "      <td>4082.0</td>\n",
       "      <td>469.0</td>\n",
       "      <td>10.305427</td>\n",
       "    </tr>\n",
       "    <tr>\n",
       "      <td rowspan=\"2\" valign=\"top\">1</td>\n",
       "      <td>Female</td>\n",
       "      <td>2865.0</td>\n",
       "      <td>244.0</td>\n",
       "      <td>7.848183</td>\n",
       "    </tr>\n",
       "    <tr>\n",
       "      <td>Male</td>\n",
       "      <td>1532.0</td>\n",
       "      <td>198.0</td>\n",
       "      <td>11.445087</td>\n",
       "    </tr>\n",
       "    <tr>\n",
       "      <td rowspan=\"2\" valign=\"top\">2</td>\n",
       "      <td>Female</td>\n",
       "      <td>1113.0</td>\n",
       "      <td>134.0</td>\n",
       "      <td>10.745790</td>\n",
       "    </tr>\n",
       "    <tr>\n",
       "      <td>Male</td>\n",
       "      <td>732.0</td>\n",
       "      <td>60.0</td>\n",
       "      <td>7.575758</td>\n",
       "    </tr>\n",
       "    <tr>\n",
       "      <td rowspan=\"2\" valign=\"top\">3</td>\n",
       "      <td>Female</td>\n",
       "      <td>178.0</td>\n",
       "      <td>17.0</td>\n",
       "      <td>8.717949</td>\n",
       "    </tr>\n",
       "    <tr>\n",
       "      <td>Male</td>\n",
       "      <td>123.0</td>\n",
       "      <td>10.0</td>\n",
       "      <td>7.518797</td>\n",
       "    </tr>\n",
       "    <tr>\n",
       "      <td rowspan=\"2\" valign=\"top\">4</td>\n",
       "      <td>Female</td>\n",
       "      <td>27.0</td>\n",
       "      <td>1.0</td>\n",
       "      <td>3.571429</td>\n",
       "    </tr>\n",
       "    <tr>\n",
       "      <td>Male</td>\n",
       "      <td>10.0</td>\n",
       "      <td>3.0</td>\n",
       "      <td>23.076923</td>\n",
       "    </tr>\n",
       "    <tr>\n",
       "      <td rowspan=\"2\" valign=\"top\">5</td>\n",
       "      <td>Female</td>\n",
       "      <td>7.0</td>\n",
       "      <td>NaN</td>\n",
       "      <td>NaN</td>\n",
       "    </tr>\n",
       "    <tr>\n",
       "      <td>Male</td>\n",
       "      <td>2.0</td>\n",
       "      <td>NaN</td>\n",
       "      <td>NaN</td>\n",
       "    </tr>\n",
       "  </tbody>\n",
       "</table>\n",
       "</div>"
      ],
      "text/plain": [
       "defaulted         False   True  default-rate\n",
       "children gender                             \n",
       "0        Female  8881.0  589.0      6.219641\n",
       "         Male    4082.0  469.0     10.305427\n",
       "1        Female  2865.0  244.0      7.848183\n",
       "         Male    1532.0  198.0     11.445087\n",
       "2        Female  1113.0  134.0     10.745790\n",
       "         Male     732.0   60.0      7.575758\n",
       "3        Female   178.0   17.0      8.717949\n",
       "         Male     123.0   10.0      7.518797\n",
       "4        Female    27.0    1.0      3.571429\n",
       "         Male      10.0    3.0     23.076923\n",
       "5        Female     7.0    NaN           NaN\n",
       "         Male       2.0    NaN           NaN"
      ]
     },
     "execution_count": 59,
     "metadata": {},
     "output_type": "execute_result"
    }
   ],
   "source": [
    "pivot_children_gender = credit_scoring_incomefilled.pivot_table(index =['children','gender'], columns ='defaulted',values='education_id',aggfunc='count')\n",
    "pivot_children_gender['default-rate'] = (pivot_children_gender[True] / (pivot_children_gender[False] + pivot_children_gender[True]))*100 \n",
    "pivot_children_gender.head(15)"
   ]
  },
  {
   "cell_type": "code",
   "execution_count": 60,
   "metadata": {},
   "outputs": [
    {
     "data": {
      "text/html": [
       "<div>\n",
       "<style scoped>\n",
       "    .dataframe tbody tr th:only-of-type {\n",
       "        vertical-align: middle;\n",
       "    }\n",
       "\n",
       "    .dataframe tbody tr th {\n",
       "        vertical-align: top;\n",
       "    }\n",
       "\n",
       "    .dataframe thead th {\n",
       "        text-align: right;\n",
       "    }\n",
       "</style>\n",
       "<table border=\"1\" class=\"dataframe\">\n",
       "  <thead>\n",
       "    <tr style=\"text-align: right;\">\n",
       "      <th></th>\n",
       "      <th>defaulted</th>\n",
       "      <th>False</th>\n",
       "      <th>True</th>\n",
       "      <th>default-rate</th>\n",
       "    </tr>\n",
       "    <tr>\n",
       "      <th>children</th>\n",
       "      <th>family_status</th>\n",
       "      <th></th>\n",
       "      <th></th>\n",
       "      <th></th>\n",
       "    </tr>\n",
       "  </thead>\n",
       "  <tbody>\n",
       "    <tr>\n",
       "      <td rowspan=\"5\" valign=\"top\">0</td>\n",
       "      <td>civil partnership</td>\n",
       "      <td>2489.0</td>\n",
       "      <td>227.0</td>\n",
       "      <td>8.357879</td>\n",
       "    </tr>\n",
       "    <tr>\n",
       "      <td>divorced</td>\n",
       "      <td>722.0</td>\n",
       "      <td>55.0</td>\n",
       "      <td>7.078507</td>\n",
       "    </tr>\n",
       "    <tr>\n",
       "      <td>married</td>\n",
       "      <td>6923.0</td>\n",
       "      <td>514.0</td>\n",
       "      <td>6.911389</td>\n",
       "    </tr>\n",
       "    <tr>\n",
       "      <td>unmarried</td>\n",
       "      <td>2039.0</td>\n",
       "      <td>210.0</td>\n",
       "      <td>9.337483</td>\n",
       "    </tr>\n",
       "    <tr>\n",
       "      <td>widow / widower</td>\n",
       "      <td>790.0</td>\n",
       "      <td>52.0</td>\n",
       "      <td>6.175772</td>\n",
       "    </tr>\n",
       "    <tr>\n",
       "      <td rowspan=\"5\" valign=\"top\">1</td>\n",
       "      <td>civil partnership</td>\n",
       "      <td>876.0</td>\n",
       "      <td>118.0</td>\n",
       "      <td>11.871227</td>\n",
       "    </tr>\n",
       "    <tr>\n",
       "      <td>divorced</td>\n",
       "      <td>294.0</td>\n",
       "      <td>21.0</td>\n",
       "      <td>6.666667</td>\n",
       "    </tr>\n",
       "    <tr>\n",
       "      <td>married</td>\n",
       "      <td>2752.0</td>\n",
       "      <td>245.0</td>\n",
       "      <td>8.174842</td>\n",
       "    </tr>\n",
       "    <tr>\n",
       "      <td>unmarried</td>\n",
       "      <td>401.0</td>\n",
       "      <td>51.0</td>\n",
       "      <td>11.283186</td>\n",
       "    </tr>\n",
       "    <tr>\n",
       "      <td>widow / widower</td>\n",
       "      <td>74.0</td>\n",
       "      <td>7.0</td>\n",
       "      <td>8.641975</td>\n",
       "    </tr>\n",
       "    <tr>\n",
       "      <td rowspan=\"5\" valign=\"top\">2</td>\n",
       "      <td>civil partnership</td>\n",
       "      <td>311.0</td>\n",
       "      <td>30.0</td>\n",
       "      <td>8.797654</td>\n",
       "    </tr>\n",
       "    <tr>\n",
       "      <td>divorced</td>\n",
       "      <td>72.0</td>\n",
       "      <td>7.0</td>\n",
       "      <td>8.860759</td>\n",
       "    </tr>\n",
       "    <tr>\n",
       "      <td>married</td>\n",
       "      <td>1380.0</td>\n",
       "      <td>145.0</td>\n",
       "      <td>9.508197</td>\n",
       "    </tr>\n",
       "    <tr>\n",
       "      <td>unmarried</td>\n",
       "      <td>65.0</td>\n",
       "      <td>9.0</td>\n",
       "      <td>12.162162</td>\n",
       "    </tr>\n",
       "    <tr>\n",
       "      <td>widow / widower</td>\n",
       "      <td>17.0</td>\n",
       "      <td>3.0</td>\n",
       "      <td>15.000000</td>\n",
       "    </tr>\n",
       "    <tr>\n",
       "      <td rowspan=\"5\" valign=\"top\">3</td>\n",
       "      <td>civil partnership</td>\n",
       "      <td>48.0</td>\n",
       "      <td>8.0</td>\n",
       "      <td>14.285714</td>\n",
       "    </tr>\n",
       "    <tr>\n",
       "      <td>divorced</td>\n",
       "      <td>10.0</td>\n",
       "      <td>1.0</td>\n",
       "      <td>9.090909</td>\n",
       "    </tr>\n",
       "    <tr>\n",
       "      <td>married</td>\n",
       "      <td>230.0</td>\n",
       "      <td>17.0</td>\n",
       "      <td>6.882591</td>\n",
       "    </tr>\n",
       "    <tr>\n",
       "      <td>unmarried</td>\n",
       "      <td>7.0</td>\n",
       "      <td>1.0</td>\n",
       "      <td>12.500000</td>\n",
       "    </tr>\n",
       "    <tr>\n",
       "      <td>widow / widower</td>\n",
       "      <td>6.0</td>\n",
       "      <td>NaN</td>\n",
       "      <td>NaN</td>\n",
       "    </tr>\n",
       "    <tr>\n",
       "      <td rowspan=\"5\" valign=\"top\">4</td>\n",
       "      <td>civil partnership</td>\n",
       "      <td>8.0</td>\n",
       "      <td>NaN</td>\n",
       "      <td>NaN</td>\n",
       "    </tr>\n",
       "    <tr>\n",
       "      <td>divorced</td>\n",
       "      <td>1.0</td>\n",
       "      <td>NaN</td>\n",
       "      <td>NaN</td>\n",
       "    </tr>\n",
       "    <tr>\n",
       "      <td>married</td>\n",
       "      <td>26.0</td>\n",
       "      <td>3.0</td>\n",
       "      <td>10.344828</td>\n",
       "    </tr>\n",
       "    <tr>\n",
       "      <td>unmarried</td>\n",
       "      <td>1.0</td>\n",
       "      <td>1.0</td>\n",
       "      <td>50.000000</td>\n",
       "    </tr>\n",
       "    <tr>\n",
       "      <td>widow / widower</td>\n",
       "      <td>1.0</td>\n",
       "      <td>NaN</td>\n",
       "      <td>NaN</td>\n",
       "    </tr>\n",
       "    <tr>\n",
       "      <td rowspan=\"2\" valign=\"top\">5</td>\n",
       "      <td>civil partnership</td>\n",
       "      <td>2.0</td>\n",
       "      <td>NaN</td>\n",
       "      <td>NaN</td>\n",
       "    </tr>\n",
       "    <tr>\n",
       "      <td>married</td>\n",
       "      <td>7.0</td>\n",
       "      <td>NaN</td>\n",
       "      <td>NaN</td>\n",
       "    </tr>\n",
       "  </tbody>\n",
       "</table>\n",
       "</div>"
      ],
      "text/plain": [
       "defaulted                    False   True  default-rate\n",
       "children family_status                                 \n",
       "0        civil partnership  2489.0  227.0      8.357879\n",
       "         divorced            722.0   55.0      7.078507\n",
       "         married            6923.0  514.0      6.911389\n",
       "         unmarried          2039.0  210.0      9.337483\n",
       "         widow / widower     790.0   52.0      6.175772\n",
       "1        civil partnership   876.0  118.0     11.871227\n",
       "         divorced            294.0   21.0      6.666667\n",
       "         married            2752.0  245.0      8.174842\n",
       "         unmarried           401.0   51.0     11.283186\n",
       "         widow / widower      74.0    7.0      8.641975\n",
       "2        civil partnership   311.0   30.0      8.797654\n",
       "         divorced             72.0    7.0      8.860759\n",
       "         married            1380.0  145.0      9.508197\n",
       "         unmarried            65.0    9.0     12.162162\n",
       "         widow / widower      17.0    3.0     15.000000\n",
       "3        civil partnership    48.0    8.0     14.285714\n",
       "         divorced             10.0    1.0      9.090909\n",
       "         married             230.0   17.0      6.882591\n",
       "         unmarried             7.0    1.0     12.500000\n",
       "         widow / widower       6.0    NaN           NaN\n",
       "4        civil partnership     8.0    NaN           NaN\n",
       "         divorced              1.0    NaN           NaN\n",
       "         married              26.0    3.0     10.344828\n",
       "         unmarried             1.0    1.0     50.000000\n",
       "         widow / widower       1.0    NaN           NaN\n",
       "5        civil partnership     2.0    NaN           NaN\n",
       "         married               7.0    NaN           NaN"
      ]
     },
     "execution_count": 60,
     "metadata": {},
     "output_type": "execute_result"
    }
   ],
   "source": [
    "pivot_children_family = credit_scoring_incomefilled.pivot_table(index =['children','family_status'], columns ='defaulted',values='education_id',aggfunc='count')\n",
    "pivot_children_family['default-rate'] = (pivot_children_family[True] / (pivot_children_family[False] + pivot_children_family[True]))*100 \n",
    "pivot_children_family"
   ]
  },
  {
   "cell_type": "code",
   "execution_count": 61,
   "metadata": {},
   "outputs": [
    {
     "data": {
      "text/plain": [
       "no children    14021\n",
       "2 or less       6878\n",
       "3 or more        378\n",
       "Name: children_category, dtype: int64"
      ]
     },
     "execution_count": 61,
     "metadata": {},
     "output_type": "execute_result"
    }
   ],
   "source": [
    "def children_cat(child):\n",
    "    if child == 0:\n",
    "        cat = 'no children'\n",
    "    elif child <= 2:\n",
    "        cat = '2 or less'\n",
    "    else:\n",
    "        cat = '3 or more'\n",
    "    return cat\n",
    "credit_scoring_incomefilled['children_category']=credit_scoring_incomefilled['children'].apply(children_cat)\n",
    "credit_scoring_incomefilled['children_category'].value_counts()"
   ]
  },
  {
   "cell_type": "code",
   "execution_count": 62,
   "metadata": {},
   "outputs": [
    {
     "data": {
      "text/html": [
       "<div>\n",
       "<style scoped>\n",
       "    .dataframe tbody tr th:only-of-type {\n",
       "        vertical-align: middle;\n",
       "    }\n",
       "\n",
       "    .dataframe tbody tr th {\n",
       "        vertical-align: top;\n",
       "    }\n",
       "\n",
       "    .dataframe thead th {\n",
       "        text-align: right;\n",
       "    }\n",
       "</style>\n",
       "<table border=\"1\" class=\"dataframe\">\n",
       "  <thead>\n",
       "    <tr style=\"text-align: right;\">\n",
       "      <th></th>\n",
       "      <th>defaulted</th>\n",
       "      <th>False</th>\n",
       "      <th>True</th>\n",
       "      <th>default-rate</th>\n",
       "    </tr>\n",
       "    <tr>\n",
       "      <th>children_category</th>\n",
       "      <th>gender</th>\n",
       "      <th></th>\n",
       "      <th></th>\n",
       "      <th></th>\n",
       "    </tr>\n",
       "  </thead>\n",
       "  <tbody>\n",
       "    <tr>\n",
       "      <td rowspan=\"2\" valign=\"top\">2 or less</td>\n",
       "      <td>Female</td>\n",
       "      <td>3978</td>\n",
       "      <td>378</td>\n",
       "      <td>8.677686</td>\n",
       "    </tr>\n",
       "    <tr>\n",
       "      <td>Male</td>\n",
       "      <td>2264</td>\n",
       "      <td>258</td>\n",
       "      <td>10.229976</td>\n",
       "    </tr>\n",
       "    <tr>\n",
       "      <td rowspan=\"2\" valign=\"top\">3 or more</td>\n",
       "      <td>Female</td>\n",
       "      <td>212</td>\n",
       "      <td>18</td>\n",
       "      <td>7.826087</td>\n",
       "    </tr>\n",
       "    <tr>\n",
       "      <td>Male</td>\n",
       "      <td>135</td>\n",
       "      <td>13</td>\n",
       "      <td>8.783784</td>\n",
       "    </tr>\n",
       "    <tr>\n",
       "      <td rowspan=\"2\" valign=\"top\">no children</td>\n",
       "      <td>Female</td>\n",
       "      <td>8881</td>\n",
       "      <td>589</td>\n",
       "      <td>6.219641</td>\n",
       "    </tr>\n",
       "    <tr>\n",
       "      <td>Male</td>\n",
       "      <td>4082</td>\n",
       "      <td>469</td>\n",
       "      <td>10.305427</td>\n",
       "    </tr>\n",
       "  </tbody>\n",
       "</table>\n",
       "</div>"
      ],
      "text/plain": [
       "defaulted                 False  True  default-rate\n",
       "children_category gender                           \n",
       "2 or less         Female   3978   378      8.677686\n",
       "                  Male     2264   258     10.229976\n",
       "3 or more         Female    212    18      7.826087\n",
       "                  Male      135    13      8.783784\n",
       "no children       Female   8881   589      6.219641\n",
       "                  Male     4082   469     10.305427"
      ]
     },
     "execution_count": 62,
     "metadata": {},
     "output_type": "execute_result"
    }
   ],
   "source": [
    "pivot_children_cat_gender = credit_scoring_incomefilled.pivot_table(index =['children_category', 'gender'],columns ='defaulted',values='education_id',aggfunc='count')\n",
    "pivot_children_cat_gender\n",
    "pivot_children_cat_gender['default-rate'] = (pivot_children_cat_gender[True] / (pivot_children_cat_gender[False] + pivot_children_cat_gender[True]))*100 \n",
    "pivot_children_cat_gender"
   ]
  },
  {
   "cell_type": "code",
   "execution_count": 63,
   "metadata": {},
   "outputs": [
    {
     "data": {
      "text/html": [
       "<div>\n",
       "<style scoped>\n",
       "    .dataframe tbody tr th:only-of-type {\n",
       "        vertical-align: middle;\n",
       "    }\n",
       "\n",
       "    .dataframe tbody tr th {\n",
       "        vertical-align: top;\n",
       "    }\n",
       "\n",
       "    .dataframe thead th {\n",
       "        text-align: right;\n",
       "    }\n",
       "</style>\n",
       "<table border=\"1\" class=\"dataframe\">\n",
       "  <thead>\n",
       "    <tr style=\"text-align: right;\">\n",
       "      <th>defaulted</th>\n",
       "      <th>False</th>\n",
       "      <th>True</th>\n",
       "      <th>default-rate</th>\n",
       "    </tr>\n",
       "    <tr>\n",
       "      <th>children_category</th>\n",
       "      <th></th>\n",
       "      <th></th>\n",
       "      <th></th>\n",
       "    </tr>\n",
       "  </thead>\n",
       "  <tbody>\n",
       "    <tr>\n",
       "      <td>2 or less</td>\n",
       "      <td>6242</td>\n",
       "      <td>636</td>\n",
       "      <td>9.246874</td>\n",
       "    </tr>\n",
       "    <tr>\n",
       "      <td>3 or more</td>\n",
       "      <td>347</td>\n",
       "      <td>31</td>\n",
       "      <td>8.201058</td>\n",
       "    </tr>\n",
       "    <tr>\n",
       "      <td>no children</td>\n",
       "      <td>12963</td>\n",
       "      <td>1058</td>\n",
       "      <td>7.545824</td>\n",
       "    </tr>\n",
       "  </tbody>\n",
       "</table>\n",
       "</div>"
      ],
      "text/plain": [
       "defaulted          False  True  default-rate\n",
       "children_category                           \n",
       "2 or less           6242   636      9.246874\n",
       "3 or more            347    31      8.201058\n",
       "no children        12963  1058      7.545824"
      ]
     },
     "execution_count": 63,
     "metadata": {},
     "output_type": "execute_result"
    }
   ],
   "source": [
    "pivot_children_cat = credit_scoring_incomefilled.pivot_table(index ='children_category',columns ='defaulted',values='education_id',aggfunc='count')\n",
    "pivot_children_cat\n",
    "pivot_children_cat['default-rate'] = (pivot_children_cat[True] / (pivot_children_cat[False] + pivot_children_cat[True]))*100 \n",
    "pivot_children_cat"
   ]
  },
  {
   "cell_type": "markdown",
   "metadata": {},
   "source": [
    "### Conclusion: \n",
    "\n",
    "* as we can find from the table above the default rate varries between 7.5 - 9.7 %.\n",
    "* the customers with no children have 7.5% chance of defaulting on aloan then it increases and peaks around 19.7 % with 4 kids. \n",
    "* after splitting the customers to groups based on kids numbers the difference will decrease and the default rate will be between 7.5 - 9.2%\n",
    "* when taking the gender into consideration we will find the results are a bit different:\n",
    "1. Women: the default rate decreases between women with no children 6.2 % and increases then peaks with women with 2 kids 10.7%\n",
    "2. Men: the default rate will be higher between men with no children or just one child (10.5 - 11.4 %) and it decreases for men with 2 or 3 kids (7.5 %). \n",
    "\n",
    "\n",
    "### 2. Is there a relation between marital status and repaying a loan on time?"
   ]
  },
  {
   "cell_type": "code",
   "execution_count": 64,
   "metadata": {},
   "outputs": [
    {
     "data": {
      "text/html": [
       "<div>\n",
       "<style scoped>\n",
       "    .dataframe tbody tr th:only-of-type {\n",
       "        vertical-align: middle;\n",
       "    }\n",
       "\n",
       "    .dataframe tbody tr th {\n",
       "        vertical-align: top;\n",
       "    }\n",
       "\n",
       "    .dataframe thead th {\n",
       "        text-align: right;\n",
       "    }\n",
       "</style>\n",
       "<table border=\"1\" class=\"dataframe\">\n",
       "  <thead>\n",
       "    <tr style=\"text-align: right;\">\n",
       "      <th>defaulted</th>\n",
       "      <th>False</th>\n",
       "      <th>True</th>\n",
       "      <th>default-rate</th>\n",
       "    </tr>\n",
       "    <tr>\n",
       "      <th>family_status</th>\n",
       "      <th></th>\n",
       "      <th></th>\n",
       "      <th></th>\n",
       "    </tr>\n",
       "  </thead>\n",
       "  <tbody>\n",
       "    <tr>\n",
       "      <td>civil partnership</td>\n",
       "      <td>3734</td>\n",
       "      <td>383</td>\n",
       "      <td>9.302890</td>\n",
       "    </tr>\n",
       "    <tr>\n",
       "      <td>divorced</td>\n",
       "      <td>1099</td>\n",
       "      <td>84</td>\n",
       "      <td>7.100592</td>\n",
       "    </tr>\n",
       "    <tr>\n",
       "      <td>married</td>\n",
       "      <td>11318</td>\n",
       "      <td>924</td>\n",
       "      <td>7.547786</td>\n",
       "    </tr>\n",
       "    <tr>\n",
       "      <td>unmarried</td>\n",
       "      <td>2513</td>\n",
       "      <td>272</td>\n",
       "      <td>9.766607</td>\n",
       "    </tr>\n",
       "    <tr>\n",
       "      <td>widow / widower</td>\n",
       "      <td>888</td>\n",
       "      <td>62</td>\n",
       "      <td>6.526316</td>\n",
       "    </tr>\n",
       "  </tbody>\n",
       "</table>\n",
       "</div>"
      ],
      "text/plain": [
       "defaulted          False  True  default-rate\n",
       "family_status                               \n",
       "civil partnership   3734   383      9.302890\n",
       "divorced            1099    84      7.100592\n",
       "married            11318   924      7.547786\n",
       "unmarried           2513   272      9.766607\n",
       "widow / widower      888    62      6.526316"
      ]
     },
     "execution_count": 64,
     "metadata": {},
     "output_type": "execute_result"
    }
   ],
   "source": [
    "pivot_marital = credit_scoring_incomefilled.pivot_table(index ='family_status',columns ='defaulted',values='education_id',aggfunc='count')\n",
    "pivot_marital['default-rate'] = (pivot_marital[True] / (pivot_marital[False] + pivot_marital[True]))*100 \n",
    "pivot_marital"
   ]
  },
  {
   "cell_type": "markdown",
   "metadata": {},
   "source": [
    "### Conclusion: \n",
    "\n",
    "* as we can find from the table above the default rate varries between 6.5 - 9.7%.\n",
    "* the chance that the customers will default on a loan increases if the the costumers are either unmarried or in a civil partnership. (9.7 - 9.3%)\n",
    "* the widowers are the least likely to default on a loan with a default rate of 6.5 %\n",
    "* married and divorced customers have relatively the same chances of defaulting on a loan which is between 7.1 and 7.5%\n",
    "\n",
    "\n",
    "### 3. Is there a relation between income level and repaying a loan on time?"
   ]
  },
  {
   "cell_type": "code",
   "execution_count": 65,
   "metadata": {},
   "outputs": [
    {
     "data": {
      "text/html": [
       "<div>\n",
       "<style scoped>\n",
       "    .dataframe tbody tr th:only-of-type {\n",
       "        vertical-align: middle;\n",
       "    }\n",
       "\n",
       "    .dataframe tbody tr th {\n",
       "        vertical-align: top;\n",
       "    }\n",
       "\n",
       "    .dataframe thead th {\n",
       "        text-align: right;\n",
       "    }\n",
       "</style>\n",
       "<table border=\"1\" class=\"dataframe\">\n",
       "  <thead>\n",
       "    <tr style=\"text-align: right;\">\n",
       "      <th>defaulted</th>\n",
       "      <th>False</th>\n",
       "      <th>True</th>\n",
       "      <th>default-rate</th>\n",
       "    </tr>\n",
       "    <tr>\n",
       "      <th>total_income_category</th>\n",
       "      <th></th>\n",
       "      <th></th>\n",
       "      <th></th>\n",
       "    </tr>\n",
       "  </thead>\n",
       "  <tbody>\n",
       "    <tr>\n",
       "      <td>above average income</td>\n",
       "      <td>5115</td>\n",
       "      <td>483</td>\n",
       "      <td>8.628081</td>\n",
       "    </tr>\n",
       "    <tr>\n",
       "      <td>below average income</td>\n",
       "      <td>5006</td>\n",
       "      <td>479</td>\n",
       "      <td>8.732908</td>\n",
       "    </tr>\n",
       "    <tr>\n",
       "      <td>high income</td>\n",
       "      <td>4664</td>\n",
       "      <td>355</td>\n",
       "      <td>7.073122</td>\n",
       "    </tr>\n",
       "    <tr>\n",
       "      <td>low income</td>\n",
       "      <td>4767</td>\n",
       "      <td>408</td>\n",
       "      <td>7.884058</td>\n",
       "    </tr>\n",
       "  </tbody>\n",
       "</table>\n",
       "</div>"
      ],
      "text/plain": [
       "defaulted              False  True  default-rate\n",
       "total_income_category                           \n",
       "above average income    5115   483      8.628081\n",
       "below average income    5006   479      8.732908\n",
       "high income             4664   355      7.073122\n",
       "low income              4767   408      7.884058"
      ]
     },
     "execution_count": 65,
     "metadata": {},
     "output_type": "execute_result"
    }
   ],
   "source": [
    "pivot_income = credit_scoring_incomefilled.pivot_table(index ='total_income_category',columns ='defaulted',values='education_id',aggfunc='count')\n",
    "pivot_income['default-rate'] = (pivot_income[True] / (pivot_income[False] + pivot_income[True]))*100 \n",
    "pivot_income"
   ]
  },
  {
   "cell_type": "code",
   "execution_count": 66,
   "metadata": {},
   "outputs": [
    {
     "data": {
      "text/html": [
       "<div>\n",
       "<style scoped>\n",
       "    .dataframe tbody tr th:only-of-type {\n",
       "        vertical-align: middle;\n",
       "    }\n",
       "\n",
       "    .dataframe tbody tr th {\n",
       "        vertical-align: top;\n",
       "    }\n",
       "\n",
       "    .dataframe thead th {\n",
       "        text-align: right;\n",
       "    }\n",
       "</style>\n",
       "<table border=\"1\" class=\"dataframe\">\n",
       "  <thead>\n",
       "    <tr style=\"text-align: right;\">\n",
       "      <th></th>\n",
       "      <th>defaulted</th>\n",
       "      <th>False</th>\n",
       "      <th>True</th>\n",
       "      <th>default-rate</th>\n",
       "    </tr>\n",
       "    <tr>\n",
       "      <th>total_income_category</th>\n",
       "      <th>income_type</th>\n",
       "      <th></th>\n",
       "      <th></th>\n",
       "      <th></th>\n",
       "    </tr>\n",
       "  </thead>\n",
       "  <tbody>\n",
       "    <tr>\n",
       "      <td rowspan=\"5\" valign=\"top\">above average income</td>\n",
       "      <td>business</td>\n",
       "      <td>1322.0</td>\n",
       "      <td>110.0</td>\n",
       "      <td>7.681564</td>\n",
       "    </tr>\n",
       "    <tr>\n",
       "      <td>civil servant</td>\n",
       "      <td>369.0</td>\n",
       "      <td>22.0</td>\n",
       "      <td>5.626598</td>\n",
       "    </tr>\n",
       "    <tr>\n",
       "      <td>employee</td>\n",
       "      <td>2604.0</td>\n",
       "      <td>289.0</td>\n",
       "      <td>9.989630</td>\n",
       "    </tr>\n",
       "    <tr>\n",
       "      <td>entrepreneur</td>\n",
       "      <td>1.0</td>\n",
       "      <td>NaN</td>\n",
       "      <td>NaN</td>\n",
       "    </tr>\n",
       "    <tr>\n",
       "      <td>retiree</td>\n",
       "      <td>819.0</td>\n",
       "      <td>62.0</td>\n",
       "      <td>7.037457</td>\n",
       "    </tr>\n",
       "    <tr>\n",
       "      <td rowspan=\"4\" valign=\"top\">below average income</td>\n",
       "      <td>business</td>\n",
       "      <td>1054.0</td>\n",
       "      <td>95.0</td>\n",
       "      <td>8.268059</td>\n",
       "    </tr>\n",
       "    <tr>\n",
       "      <td>civil servant</td>\n",
       "      <td>329.0</td>\n",
       "      <td>23.0</td>\n",
       "      <td>6.534091</td>\n",
       "    </tr>\n",
       "    <tr>\n",
       "      <td>employee</td>\n",
       "      <td>2723.0</td>\n",
       "      <td>306.0</td>\n",
       "      <td>10.102344</td>\n",
       "    </tr>\n",
       "    <tr>\n",
       "      <td>retiree</td>\n",
       "      <td>900.0</td>\n",
       "      <td>55.0</td>\n",
       "      <td>5.759162</td>\n",
       "    </tr>\n",
       "    <tr>\n",
       "      <td rowspan=\"6\" valign=\"top\">high income</td>\n",
       "      <td>business</td>\n",
       "      <td>1630.0</td>\n",
       "      <td>111.0</td>\n",
       "      <td>6.375646</td>\n",
       "    </tr>\n",
       "    <tr>\n",
       "      <td>civil servant</td>\n",
       "      <td>349.0</td>\n",
       "      <td>18.0</td>\n",
       "      <td>4.904632</td>\n",
       "    </tr>\n",
       "    <tr>\n",
       "      <td>employee</td>\n",
       "      <td>2167.0</td>\n",
       "      <td>195.0</td>\n",
       "      <td>8.255715</td>\n",
       "    </tr>\n",
       "    <tr>\n",
       "      <td>entrepreneur</td>\n",
       "      <td>1.0</td>\n",
       "      <td>NaN</td>\n",
       "      <td>NaN</td>\n",
       "    </tr>\n",
       "    <tr>\n",
       "      <td>retiree</td>\n",
       "      <td>516.0</td>\n",
       "      <td>31.0</td>\n",
       "      <td>5.667276</td>\n",
       "    </tr>\n",
       "    <tr>\n",
       "      <td>unemployed</td>\n",
       "      <td>1.0</td>\n",
       "      <td>NaN</td>\n",
       "      <td>NaN</td>\n",
       "    </tr>\n",
       "    <tr>\n",
       "      <td rowspan=\"7\" valign=\"top\">low income</td>\n",
       "      <td>business</td>\n",
       "      <td>656.0</td>\n",
       "      <td>57.0</td>\n",
       "      <td>7.994390</td>\n",
       "    </tr>\n",
       "    <tr>\n",
       "      <td>civil servant</td>\n",
       "      <td>316.0</td>\n",
       "      <td>23.0</td>\n",
       "      <td>6.784661</td>\n",
       "    </tr>\n",
       "    <tr>\n",
       "      <td>employee</td>\n",
       "      <td>2444.0</td>\n",
       "      <td>259.0</td>\n",
       "      <td>9.581946</td>\n",
       "    </tr>\n",
       "    <tr>\n",
       "      <td>paternity / maternity leave</td>\n",
       "      <td>NaN</td>\n",
       "      <td>1.0</td>\n",
       "      <td>NaN</td>\n",
       "    </tr>\n",
       "    <tr>\n",
       "      <td>retiree</td>\n",
       "      <td>1350.0</td>\n",
       "      <td>67.0</td>\n",
       "      <td>4.728299</td>\n",
       "    </tr>\n",
       "    <tr>\n",
       "      <td>student</td>\n",
       "      <td>1.0</td>\n",
       "      <td>NaN</td>\n",
       "      <td>NaN</td>\n",
       "    </tr>\n",
       "    <tr>\n",
       "      <td>unemployed</td>\n",
       "      <td>NaN</td>\n",
       "      <td>1.0</td>\n",
       "      <td>NaN</td>\n",
       "    </tr>\n",
       "  </tbody>\n",
       "</table>\n",
       "</div>"
      ],
      "text/plain": [
       "defaulted                                           False   True  default-rate\n",
       "total_income_category income_type                                             \n",
       "above average income  business                     1322.0  110.0      7.681564\n",
       "                      civil servant                 369.0   22.0      5.626598\n",
       "                      employee                     2604.0  289.0      9.989630\n",
       "                      entrepreneur                    1.0    NaN           NaN\n",
       "                      retiree                       819.0   62.0      7.037457\n",
       "below average income  business                     1054.0   95.0      8.268059\n",
       "                      civil servant                 329.0   23.0      6.534091\n",
       "                      employee                     2723.0  306.0     10.102344\n",
       "                      retiree                       900.0   55.0      5.759162\n",
       "high income           business                     1630.0  111.0      6.375646\n",
       "                      civil servant                 349.0   18.0      4.904632\n",
       "                      employee                     2167.0  195.0      8.255715\n",
       "                      entrepreneur                    1.0    NaN           NaN\n",
       "                      retiree                       516.0   31.0      5.667276\n",
       "                      unemployed                      1.0    NaN           NaN\n",
       "low income            business                      656.0   57.0      7.994390\n",
       "                      civil servant                 316.0   23.0      6.784661\n",
       "                      employee                     2444.0  259.0      9.581946\n",
       "                      paternity / maternity leave     NaN    1.0           NaN\n",
       "                      retiree                      1350.0   67.0      4.728299\n",
       "                      student                         1.0    NaN           NaN\n",
       "                      unemployed                      NaN    1.0           NaN"
      ]
     },
     "execution_count": 66,
     "metadata": {},
     "output_type": "execute_result"
    }
   ],
   "source": [
    "pivot_income_type = credit_scoring_incomefilled.pivot_table(index =['total_income_category', 'income_type'],columns ='defaulted',values='education_id',aggfunc='count')\n",
    "pivot_income_type['default-rate'] = (pivot_income_type[True] / (pivot_income_type[False] + pivot_income_type[True]))*100 \n",
    "pivot_income_type"
   ]
  },
  {
   "cell_type": "markdown",
   "metadata": {},
   "source": [
    "### Conclusion: \n",
    "\n",
    "* as we can find from the table above the default rate varries between 7.0 - 8.7 % \n",
    "* the chance that the customers will default on a loan is highest with the customers with average income.\n",
    "* surprisingly the custumers with low income are not the ones with the highest defaulting chance as they have a chance of 7.8%\n",
    "* unsurprisingly the customers with high income are the least likely to default on a loan but they are not that far as they have 7.0% chance.\n",
    "* when taking the income type into consideration we find that the employees have the highest default rate throughout the income level groups.\n",
    "* civil servants and retiree have the lowest default rate.\n",
    "\n",
    "\n",
    "### 4. How do different loan purposes affect on-time repayment of the loan?"
   ]
  },
  {
   "cell_type": "code",
   "execution_count": 67,
   "metadata": {},
   "outputs": [
    {
     "data": {
      "text/html": [
       "<div>\n",
       "<style scoped>\n",
       "    .dataframe tbody tr th:only-of-type {\n",
       "        vertical-align: middle;\n",
       "    }\n",
       "\n",
       "    .dataframe tbody tr th {\n",
       "        vertical-align: top;\n",
       "    }\n",
       "\n",
       "    .dataframe thead th {\n",
       "        text-align: right;\n",
       "    }\n",
       "</style>\n",
       "<table border=\"1\" class=\"dataframe\">\n",
       "  <thead>\n",
       "    <tr style=\"text-align: right;\">\n",
       "      <th>defaulted</th>\n",
       "      <th>False</th>\n",
       "      <th>True</th>\n",
       "      <th>default-rate</th>\n",
       "    </tr>\n",
       "    <tr>\n",
       "      <th>purpose_category</th>\n",
       "      <th></th>\n",
       "      <th></th>\n",
       "      <th></th>\n",
       "    </tr>\n",
       "  </thead>\n",
       "  <tbody>\n",
       "    <tr>\n",
       "      <td>car</td>\n",
       "      <td>3923</td>\n",
       "      <td>341</td>\n",
       "      <td>7.997186</td>\n",
       "    </tr>\n",
       "    <tr>\n",
       "      <td>education</td>\n",
       "      <td>3666</td>\n",
       "      <td>321</td>\n",
       "      <td>8.051166</td>\n",
       "    </tr>\n",
       "    <tr>\n",
       "      <td>real estate</td>\n",
       "      <td>9838</td>\n",
       "      <td>869</td>\n",
       "      <td>8.116186</td>\n",
       "    </tr>\n",
       "    <tr>\n",
       "      <td>wedding</td>\n",
       "      <td>2125</td>\n",
       "      <td>194</td>\n",
       "      <td>8.365675</td>\n",
       "    </tr>\n",
       "  </tbody>\n",
       "</table>\n",
       "</div>"
      ],
      "text/plain": [
       "defaulted         False  True  default-rate\n",
       "purpose_category                           \n",
       "car                3923   341      7.997186\n",
       "education          3666   321      8.051166\n",
       "real estate        9838   869      8.116186\n",
       "wedding            2125   194      8.365675"
      ]
     },
     "execution_count": 67,
     "metadata": {},
     "output_type": "execute_result"
    }
   ],
   "source": [
    "pivot_purpose = credit_scoring_incomefilled.pivot_table(index ='purpose_category',columns ='defaulted',values='education_id',aggfunc='count')\n",
    "pivot_purpose['default-rate'] = (pivot_purpose[True] / (pivot_purpose[False] + pivot_purpose[True]))*100 \n",
    "pivot_purpose"
   ]
  },
  {
   "cell_type": "markdown",
   "metadata": {},
   "source": [
    "### Conclusion: \n",
    "\n",
    "* as we can find from the table above default rate varries between 8.0 - 8.3 %.\n",
    "* the difference in the chance to default on a loan between customers with different purposes is not that high (around 0.3 %).\n",
    "* the customers with the highest chance to default on a loan are the ones who need the loan for a wedding and the default rate is lowest for people who wants to buy a car.\n",
    "\n",
    "## Additional observation"
   ]
  },
  {
   "cell_type": "code",
   "execution_count": 68,
   "metadata": {},
   "outputs": [
    {
     "data": {
      "text/html": [
       "<div>\n",
       "<style scoped>\n",
       "    .dataframe tbody tr th:only-of-type {\n",
       "        vertical-align: middle;\n",
       "    }\n",
       "\n",
       "    .dataframe tbody tr th {\n",
       "        vertical-align: top;\n",
       "    }\n",
       "\n",
       "    .dataframe thead th {\n",
       "        text-align: right;\n",
       "    }\n",
       "</style>\n",
       "<table border=\"1\" class=\"dataframe\">\n",
       "  <thead>\n",
       "    <tr style=\"text-align: right;\">\n",
       "      <th>defaulted</th>\n",
       "      <th>False</th>\n",
       "      <th>True</th>\n",
       "      <th>default-rate</th>\n",
       "    </tr>\n",
       "    <tr>\n",
       "      <th>education</th>\n",
       "      <th></th>\n",
       "      <th></th>\n",
       "      <th></th>\n",
       "    </tr>\n",
       "  </thead>\n",
       "  <tbody>\n",
       "    <tr>\n",
       "      <td>bachelor's degree</td>\n",
       "      <td>4924.0</td>\n",
       "      <td>277.0</td>\n",
       "      <td>5.325899</td>\n",
       "    </tr>\n",
       "    <tr>\n",
       "      <td>graduate degree</td>\n",
       "      <td>6.0</td>\n",
       "      <td>NaN</td>\n",
       "      <td>NaN</td>\n",
       "    </tr>\n",
       "    <tr>\n",
       "      <td>primary education</td>\n",
       "      <td>251.0</td>\n",
       "      <td>31.0</td>\n",
       "      <td>10.992908</td>\n",
       "    </tr>\n",
       "    <tr>\n",
       "      <td>secondary education</td>\n",
       "      <td>13700.0</td>\n",
       "      <td>1349.0</td>\n",
       "      <td>8.964051</td>\n",
       "    </tr>\n",
       "    <tr>\n",
       "      <td>some college</td>\n",
       "      <td>671.0</td>\n",
       "      <td>68.0</td>\n",
       "      <td>9.201624</td>\n",
       "    </tr>\n",
       "  </tbody>\n",
       "</table>\n",
       "</div>"
      ],
      "text/plain": [
       "defaulted              False    True  default-rate\n",
       "education                                         \n",
       "bachelor's degree     4924.0   277.0      5.325899\n",
       "graduate degree          6.0     NaN           NaN\n",
       "primary education      251.0    31.0     10.992908\n",
       "secondary education  13700.0  1349.0      8.964051\n",
       "some college           671.0    68.0      9.201624"
      ]
     },
     "execution_count": 68,
     "metadata": {},
     "output_type": "execute_result"
    }
   ],
   "source": [
    "pivot_education = credit_scoring_incomefilled.pivot_table(index = 'education',columns ='defaulted',values='education_id',aggfunc='count')\n",
    "pivot_education['default-rate'] = (pivot_education[True] / (pivot_education[False] + pivot_education[True]))*100 \n",
    "pivot_education"
   ]
  },
  {
   "cell_type": "code",
   "execution_count": 69,
   "metadata": {},
   "outputs": [
    {
     "data": {
      "text/plain": [
       "education\n",
       "bachelor's degree      32536.338781\n",
       "graduate degree        27959.500000\n",
       "primary education      21564.563830\n",
       "secondary education    24804.101203\n",
       "some college           28847.993234\n",
       "Name: total_income, dtype: float64"
      ]
     },
     "execution_count": 69,
     "metadata": {},
     "output_type": "execute_result"
    }
   ],
   "source": [
    "credit_scoring_incomefilled.groupby('education')['total_income'].mean()"
   ]
  },
  {
   "cell_type": "markdown",
   "metadata": {},
   "source": [
    "### Conclusion: \n",
    "\n",
    "* as we can find from the table above default rate varries between 5.3 - 10.9 %.\n",
    "* we can notice that the lower the education level  the higher the default rate with an exception for people who have attended some college which i can consider vague and these have relatively the same rate as the customers who have just finished secondary education so they have almost the same level of education.\n",
    "* noticably the higher the education the higher the income average."
   ]
  },
  {
   "cell_type": "markdown",
   "metadata": {},
   "source": [
    "# Final Conclusion:\n",
    "\n",
    "in the analysis we took into consideration the following points:\n",
    "* number of kids\n",
    "* marital status\n",
    "* income level\n",
    "* purpose of the loan\n",
    "* education level\n",
    "\n",
    "and after looking at the resuls I came to the conclusion that the follwing attributes were found to correlate with higher default rates:\n",
    "\n",
    "* males with less than 2 kids.\n",
    "* females with more than 1 kid.\n",
    "* in general( customer with 1-2 kids have the highest default rate)\n",
    "* Being unmarried or in a civil partnership\n",
    "* Being an employee\n",
    "* Taking out a loan for a wedding\n",
    "* having a low level of education \n",
    "\n",
    "\n",
    "* **as for the income level there was no relation between the level and defaulting so it should not be taken into consideration.**\n",
    "* *final note: as the higher education level has a lower default rate, it can be taken into consideration that a loan with the purpose of education will correspond to this and the default rate will decrease but as we have no data regarding if the education was a success or not so we can't elaborate more on this point.*"
   ]
  }
 ],
 "metadata": {
  "kernelspec": {
   "display_name": "Python 3",
   "language": "python",
   "name": "python3"
  },
  "language_info": {
   "codemirror_mode": {
    "name": "ipython",
    "version": 3
   },
   "file_extension": ".py",
   "mimetype": "text/x-python",
   "name": "python",
   "nbconvert_exporter": "python",
   "pygments_lexer": "ipython3",
   "version": "3.8.5"
  },
  "toc": {
   "base_numbering": 1,
   "nav_menu": {},
   "number_sections": true,
   "sideBar": true,
   "skip_h1_title": true,
   "title_cell": "Table of Contents",
   "title_sidebar": "Contents",
   "toc_cell": false,
   "toc_position": {},
   "toc_section_display": true,
   "toc_window_display": false
  }
 },
 "nbformat": 4,
 "nbformat_minor": 4
}
